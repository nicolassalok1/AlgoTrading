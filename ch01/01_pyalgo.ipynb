{
 "cells": [
  {
   "cell_type": "markdown",
   "metadata": {},
   "source": [
    "<img src=\"http://hilpisch.com/tpq_logo.png\" alt=\"The Python Quants\" width=\"35%\" align=\"right\" border=\"0\"><br>"
   ]
  },
  {
   "cell_type": "markdown",
   "metadata": {},
   "source": [
    "# Python for Algorithmic Trading\n",
    "\n",
    "**Chapter 01 &mdash; Python and Algorithmic Trading**"
   ]
  },
  {
   "cell_type": "code",
   "metadata": {
    "ExecuteTime": {
     "end_time": "2025-05-06T15:27:09.928511Z",
     "start_time": "2025-05-06T15:27:09.337874Z"
    }
   },
   "source": [
    "%%time\n",
    "import random\n",
    "from math import exp, sqrt\n",
    "\n",
    "S0 = 100\n",
    "r = 0.05\n",
    "T = 1.0\n",
    "sigma = 0.2\n",
    "\n",
    "values = []\n",
    "\n",
    "for _ in range(1000000):\n",
    "    ST = S0 * exp((r - 0.5 * sigma ** 2) * T +\n",
    "                    sigma * random.gauss(0, 1) * sqrt(T))\n",
    "    values.append(ST)"
   ],
   "outputs": [
    {
     "name": "stdout",
     "output_type": "stream",
     "text": [
      "CPU times: total: 562 ms\n",
      "Wall time: 585 ms\n"
     ]
    }
   ],
   "execution_count": 1
  },
  {
   "cell_type": "code",
   "metadata": {
    "ExecuteTime": {
     "end_time": "2025-05-06T15:27:10.114662Z",
     "start_time": "2025-05-06T15:27:09.949997Z"
    }
   },
   "source": [
    "%%time\n",
    "import numpy as np\n",
    "\n",
    "S0 = 100\n",
    "r = 0.05\n",
    "T = 1.0\n",
    "sigma = 0.2\n",
    "\n",
    "ST = S0 * np.exp((r - 0.5 * sigma ** 2) * T +\n",
    "                    sigma * np.random.standard_normal(1000000) * np.sqrt(T))"
   ],
   "outputs": [
    {
     "name": "stdout",
     "output_type": "stream",
     "text": [
      "CPU times: total: 93.8 ms\n",
      "Wall time: 159 ms\n"
     ]
    }
   ],
   "execution_count": 2
  },
  {
   "cell_type": "code",
   "metadata": {
    "ExecuteTime": {
     "end_time": "2025-05-06T15:27:10.579167Z",
     "start_time": "2025-05-06T15:27:10.262264Z"
    }
   },
   "source": [
    "%matplotlib inline\n",
    "import matplotlib_inline\n",
    "import matplotlib\n",
    "from pylab import mpl, plt\n",
    "plt.style.use('seaborn-v0_8')\n",
    "mpl.rcParams['font.family'] = 'serif'"
   ],
   "outputs": [],
   "execution_count": 3
  },
  {
   "cell_type": "code",
   "metadata": {
    "ExecuteTime": {
     "end_time": "2025-05-06T15:27:10.590213Z",
     "start_time": "2025-05-06T15:27:10.583724Z"
    }
   },
   "source": [
    "import configparser\n",
    "c = configparser.ConfigParser()\n",
    "c.read('../pyalgo.cfg')  # adjust path to your cred file"
   ],
   "outputs": [
    {
     "data": {
      "text/plain": [
       "['../pyalgo.cfg']"
      ]
     },
     "execution_count": 4,
     "metadata": {},
     "output_type": "execute_result"
    }
   ],
   "execution_count": 4
  },
  {
   "cell_type": "code",
   "metadata": {
    "ExecuteTime": {
     "end_time": "2025-05-06T15:27:11.918677Z",
     "start_time": "2025-05-06T15:27:10.600085Z"
    }
   },
   "source": [
    "import quandl as q\n",
    "q.ApiConfig.api_key = c['quandl']['api_key']\n",
    "d = q.get('BCHAIN/MKPRU')\n",
    "d['SMA'] = d['Value'].rolling(100).mean()\n",
    "d.loc['2013-1-1':].plot(title='BTC/USD exchange rate',\n",
    "                        figsize=(10, 6));"
   ],
   "outputs": [
    {
     "ename": "QuandlError",
     "evalue": "(Status 403) Something went wrong. Please try again. If you continue to have problems, please contact us at connect@quandl.com.",
     "output_type": "error",
     "traceback": [
      "\u001B[31m---------------------------------------------------------------------------\u001B[39m",
      "\u001B[31mJSONDecodeError\u001B[39m                           Traceback (most recent call last)",
      "\u001B[36mFile \u001B[39m\u001B[32m~\\AppData\\Roaming\\Python\\Python312\\site-packages\\requests\\models.py:974\u001B[39m, in \u001B[36mResponse.json\u001B[39m\u001B[34m(self, **kwargs)\u001B[39m\n\u001B[32m    973\u001B[39m \u001B[38;5;28;01mtry\u001B[39;00m:\n\u001B[32m--> \u001B[39m\u001B[32m974\u001B[39m     \u001B[38;5;28;01mreturn\u001B[39;00m \u001B[43mcomplexjson\u001B[49m\u001B[43m.\u001B[49m\u001B[43mloads\u001B[49m\u001B[43m(\u001B[49m\u001B[38;5;28;43mself\u001B[39;49m\u001B[43m.\u001B[49m\u001B[43mtext\u001B[49m\u001B[43m,\u001B[49m\u001B[43m \u001B[49m\u001B[43m*\u001B[49m\u001B[43m*\u001B[49m\u001B[43mkwargs\u001B[49m\u001B[43m)\u001B[49m\n\u001B[32m    975\u001B[39m \u001B[38;5;28;01mexcept\u001B[39;00m JSONDecodeError \u001B[38;5;28;01mas\u001B[39;00m e:\n\u001B[32m    976\u001B[39m     \u001B[38;5;66;03m# Catch JSON-related errors and raise as requests.JSONDecodeError\u001B[39;00m\n\u001B[32m    977\u001B[39m     \u001B[38;5;66;03m# This aliases json.JSONDecodeError and simplejson.JSONDecodeError\u001B[39;00m\n",
      "\u001B[36mFile \u001B[39m\u001B[32mD:\\Programmes\\Anaconda\\envs\\AlgoTrading\\Lib\\json\\__init__.py:346\u001B[39m, in \u001B[36mloads\u001B[39m\u001B[34m(s, cls, object_hook, parse_float, parse_int, parse_constant, object_pairs_hook, **kw)\u001B[39m\n\u001B[32m    343\u001B[39m \u001B[38;5;28;01mif\u001B[39;00m (\u001B[38;5;28mcls\u001B[39m \u001B[38;5;129;01mis\u001B[39;00m \u001B[38;5;28;01mNone\u001B[39;00m \u001B[38;5;129;01mand\u001B[39;00m object_hook \u001B[38;5;129;01mis\u001B[39;00m \u001B[38;5;28;01mNone\u001B[39;00m \u001B[38;5;129;01mand\u001B[39;00m\n\u001B[32m    344\u001B[39m         parse_int \u001B[38;5;129;01mis\u001B[39;00m \u001B[38;5;28;01mNone\u001B[39;00m \u001B[38;5;129;01mand\u001B[39;00m parse_float \u001B[38;5;129;01mis\u001B[39;00m \u001B[38;5;28;01mNone\u001B[39;00m \u001B[38;5;129;01mand\u001B[39;00m\n\u001B[32m    345\u001B[39m         parse_constant \u001B[38;5;129;01mis\u001B[39;00m \u001B[38;5;28;01mNone\u001B[39;00m \u001B[38;5;129;01mand\u001B[39;00m object_pairs_hook \u001B[38;5;129;01mis\u001B[39;00m \u001B[38;5;28;01mNone\u001B[39;00m \u001B[38;5;129;01mand\u001B[39;00m \u001B[38;5;129;01mnot\u001B[39;00m kw):\n\u001B[32m--> \u001B[39m\u001B[32m346\u001B[39m     \u001B[38;5;28;01mreturn\u001B[39;00m \u001B[43m_default_decoder\u001B[49m\u001B[43m.\u001B[49m\u001B[43mdecode\u001B[49m\u001B[43m(\u001B[49m\u001B[43ms\u001B[49m\u001B[43m)\u001B[49m\n\u001B[32m    347\u001B[39m \u001B[38;5;28;01mif\u001B[39;00m \u001B[38;5;28mcls\u001B[39m \u001B[38;5;129;01mis\u001B[39;00m \u001B[38;5;28;01mNone\u001B[39;00m:\n",
      "\u001B[36mFile \u001B[39m\u001B[32mD:\\Programmes\\Anaconda\\envs\\AlgoTrading\\Lib\\json\\decoder.py:338\u001B[39m, in \u001B[36mJSONDecoder.decode\u001B[39m\u001B[34m(self, s, _w)\u001B[39m\n\u001B[32m    334\u001B[39m \u001B[38;5;250m\u001B[39m\u001B[33;03m\"\"\"Return the Python representation of ``s`` (a ``str`` instance\u001B[39;00m\n\u001B[32m    335\u001B[39m \u001B[33;03mcontaining a JSON document).\u001B[39;00m\n\u001B[32m    336\u001B[39m \n\u001B[32m    337\u001B[39m \u001B[33;03m\"\"\"\u001B[39;00m\n\u001B[32m--> \u001B[39m\u001B[32m338\u001B[39m obj, end = \u001B[38;5;28;43mself\u001B[39;49m\u001B[43m.\u001B[49m\u001B[43mraw_decode\u001B[49m\u001B[43m(\u001B[49m\u001B[43ms\u001B[49m\u001B[43m,\u001B[49m\u001B[43m \u001B[49m\u001B[43midx\u001B[49m\u001B[43m=\u001B[49m\u001B[43m_w\u001B[49m\u001B[43m(\u001B[49m\u001B[43ms\u001B[49m\u001B[43m,\u001B[49m\u001B[43m \u001B[49m\u001B[32;43m0\u001B[39;49m\u001B[43m)\u001B[49m\u001B[43m.\u001B[49m\u001B[43mend\u001B[49m\u001B[43m(\u001B[49m\u001B[43m)\u001B[49m\u001B[43m)\u001B[49m\n\u001B[32m    339\u001B[39m end = _w(s, end).end()\n",
      "\u001B[36mFile \u001B[39m\u001B[32mD:\\Programmes\\Anaconda\\envs\\AlgoTrading\\Lib\\json\\decoder.py:356\u001B[39m, in \u001B[36mJSONDecoder.raw_decode\u001B[39m\u001B[34m(self, s, idx)\u001B[39m\n\u001B[32m    355\u001B[39m \u001B[38;5;28;01mexcept\u001B[39;00m \u001B[38;5;167;01mStopIteration\u001B[39;00m \u001B[38;5;28;01mas\u001B[39;00m err:\n\u001B[32m--> \u001B[39m\u001B[32m356\u001B[39m     \u001B[38;5;28;01mraise\u001B[39;00m JSONDecodeError(\u001B[33m\"\u001B[39m\u001B[33mExpecting value\u001B[39m\u001B[33m\"\u001B[39m, s, err.value) \u001B[38;5;28;01mfrom\u001B[39;00m\u001B[38;5;250m \u001B[39m\u001B[38;5;28;01mNone\u001B[39;00m\n\u001B[32m    357\u001B[39m \u001B[38;5;28;01mreturn\u001B[39;00m obj, end\n",
      "\u001B[31mJSONDecodeError\u001B[39m: Expecting value: line 1 column 1 (char 0)",
      "\nDuring handling of the above exception, another exception occurred:\n",
      "\u001B[31mJSONDecodeError\u001B[39m                           Traceback (most recent call last)",
      "\u001B[36mFile \u001B[39m\u001B[32mD:\\Programmes\\Anaconda\\envs\\AlgoTrading\\Lib\\site-packages\\quandl\\connection.py:84\u001B[39m, in \u001B[36mConnection.parse\u001B[39m\u001B[34m(cls, response)\u001B[39m\n\u001B[32m     83\u001B[39m \u001B[38;5;28;01mtry\u001B[39;00m:\n\u001B[32m---> \u001B[39m\u001B[32m84\u001B[39m     \u001B[38;5;28;01mreturn\u001B[39;00m \u001B[43mresponse\u001B[49m\u001B[43m.\u001B[49m\u001B[43mjson\u001B[49m\u001B[43m(\u001B[49m\u001B[43m)\u001B[49m\n\u001B[32m     85\u001B[39m \u001B[38;5;28;01mexcept\u001B[39;00m \u001B[38;5;167;01mValueError\u001B[39;00m:\n",
      "\u001B[36mFile \u001B[39m\u001B[32m~\\AppData\\Roaming\\Python\\Python312\\site-packages\\requests\\models.py:978\u001B[39m, in \u001B[36mResponse.json\u001B[39m\u001B[34m(self, **kwargs)\u001B[39m\n\u001B[32m    975\u001B[39m \u001B[38;5;28;01mexcept\u001B[39;00m JSONDecodeError \u001B[38;5;28;01mas\u001B[39;00m e:\n\u001B[32m    976\u001B[39m     \u001B[38;5;66;03m# Catch JSON-related errors and raise as requests.JSONDecodeError\u001B[39;00m\n\u001B[32m    977\u001B[39m     \u001B[38;5;66;03m# This aliases json.JSONDecodeError and simplejson.JSONDecodeError\u001B[39;00m\n\u001B[32m--> \u001B[39m\u001B[32m978\u001B[39m     \u001B[38;5;28;01mraise\u001B[39;00m RequestsJSONDecodeError(e.msg, e.doc, e.pos)\n",
      "\u001B[31mJSONDecodeError\u001B[39m: Expecting value: line 1 column 1 (char 0)",
      "\nDuring handling of the above exception, another exception occurred:\n",
      "\u001B[31mQuandlError\u001B[39m                               Traceback (most recent call last)",
      "\u001B[36mCell\u001B[39m\u001B[36m \u001B[39m\u001B[32mIn[5]\u001B[39m\u001B[32m, line 3\u001B[39m\n\u001B[32m      1\u001B[39m \u001B[38;5;28;01mimport\u001B[39;00m\u001B[38;5;250m \u001B[39m\u001B[34;01mquandl\u001B[39;00m\u001B[38;5;250m \u001B[39m\u001B[38;5;28;01mas\u001B[39;00m\u001B[38;5;250m \u001B[39m\u001B[34;01mq\u001B[39;00m\n\u001B[32m      2\u001B[39m q.ApiConfig.api_key = c[\u001B[33m'\u001B[39m\u001B[33mquandl\u001B[39m\u001B[33m'\u001B[39m][\u001B[33m'\u001B[39m\u001B[33mapi_key\u001B[39m\u001B[33m'\u001B[39m]\n\u001B[32m----> \u001B[39m\u001B[32m3\u001B[39m d = \u001B[43mq\u001B[49m\u001B[43m.\u001B[49m\u001B[43mget\u001B[49m\u001B[43m(\u001B[49m\u001B[33;43m'\u001B[39;49m\u001B[33;43mBCHAIN/MKPRU\u001B[39;49m\u001B[33;43m'\u001B[39;49m\u001B[43m)\u001B[49m\n\u001B[32m      4\u001B[39m d[\u001B[33m'\u001B[39m\u001B[33mSMA\u001B[39m\u001B[33m'\u001B[39m] = d[\u001B[33m'\u001B[39m\u001B[33mValue\u001B[39m\u001B[33m'\u001B[39m].rolling(\u001B[32m100\u001B[39m).mean()\n\u001B[32m      5\u001B[39m d.loc[\u001B[33m'\u001B[39m\u001B[33m2013-1-1\u001B[39m\u001B[33m'\u001B[39m:].plot(title=\u001B[33m'\u001B[39m\u001B[33mBTC/USD exchange rate\u001B[39m\u001B[33m'\u001B[39m,\n\u001B[32m      6\u001B[39m                         figsize=(\u001B[32m10\u001B[39m, \u001B[32m6\u001B[39m));\n",
      "\u001B[36mFile \u001B[39m\u001B[32mD:\\Programmes\\Anaconda\\envs\\AlgoTrading\\Lib\\site-packages\\quandl\\get.py:48\u001B[39m, in \u001B[36mget\u001B[39m\u001B[34m(dataset, **kwargs)\u001B[39m\n\u001B[32m     46\u001B[39m     \u001B[38;5;28;01mif\u001B[39;00m dataset_args[\u001B[33m'\u001B[39m\u001B[33mcolumn_index\u001B[39m\u001B[33m'\u001B[39m] \u001B[38;5;129;01mis\u001B[39;00m \u001B[38;5;129;01mnot\u001B[39;00m \u001B[38;5;28;01mNone\u001B[39;00m:\n\u001B[32m     47\u001B[39m         kwargs.update({\u001B[33m'\u001B[39m\u001B[33mcolumn_index\u001B[39m\u001B[33m'\u001B[39m: dataset_args[\u001B[33m'\u001B[39m\u001B[33mcolumn_index\u001B[39m\u001B[33m'\u001B[39m]})\n\u001B[32m---> \u001B[39m\u001B[32m48\u001B[39m     data = \u001B[43mDataset\u001B[49m\u001B[43m(\u001B[49m\u001B[43mdataset_args\u001B[49m\u001B[43m[\u001B[49m\u001B[33;43m'\u001B[39;49m\u001B[33;43mcode\u001B[39;49m\u001B[33;43m'\u001B[39;49m\u001B[43m]\u001B[49m\u001B[43m)\u001B[49m\u001B[43m.\u001B[49m\u001B[43mdata\u001B[49m\u001B[43m(\u001B[49m\u001B[43mparams\u001B[49m\u001B[43m=\u001B[49m\u001B[43mkwargs\u001B[49m\u001B[43m,\u001B[49m\u001B[43m \u001B[49m\u001B[43mhandle_column_not_found\u001B[49m\u001B[43m=\u001B[49m\u001B[38;5;28;43;01mTrue\u001B[39;49;00m\u001B[43m)\u001B[49m\n\u001B[32m     49\u001B[39m \u001B[38;5;66;03m# Array\u001B[39;00m\n\u001B[32m     50\u001B[39m \u001B[38;5;28;01melif\u001B[39;00m \u001B[38;5;28misinstance\u001B[39m(dataset, \u001B[38;5;28mlist\u001B[39m):\n",
      "\u001B[36mFile \u001B[39m\u001B[32mD:\\Programmes\\Anaconda\\envs\\AlgoTrading\\Lib\\site-packages\\quandl\\model\\dataset.py:47\u001B[39m, in \u001B[36mDataset.data\u001B[39m\u001B[34m(self, **options)\u001B[39m\n\u001B[32m     45\u001B[39m updated_options = Util.merge_options(\u001B[33m'\u001B[39m\u001B[33mparams\u001B[39m\u001B[33m'\u001B[39m, params, **options)\n\u001B[32m     46\u001B[39m \u001B[38;5;28;01mtry\u001B[39;00m:\n\u001B[32m---> \u001B[39m\u001B[32m47\u001B[39m     \u001B[38;5;28;01mreturn\u001B[39;00m \u001B[43mData\u001B[49m\u001B[43m.\u001B[49m\u001B[43mall\u001B[49m\u001B[43m(\u001B[49m\u001B[43m*\u001B[49m\u001B[43m*\u001B[49m\u001B[43mupdated_options\u001B[49m\u001B[43m)\u001B[49m\n\u001B[32m     48\u001B[39m \u001B[38;5;28;01mexcept\u001B[39;00m NotFoundError:\n\u001B[32m     49\u001B[39m     \u001B[38;5;28;01mif\u001B[39;00m handle_not_found_error:\n",
      "\u001B[36mFile \u001B[39m\u001B[32mD:\\Programmes\\Anaconda\\envs\\AlgoTrading\\Lib\\site-packages\\quandl\\operations\\list.py:15\u001B[39m, in \u001B[36mListOperation.all\u001B[39m\u001B[34m(cls, **options)\u001B[39m\n\u001B[32m     13\u001B[39m     options[\u001B[33m'\u001B[39m\u001B[33mparams\u001B[39m\u001B[33m'\u001B[39m] = {}\n\u001B[32m     14\u001B[39m path = Util.constructed_path(\u001B[38;5;28mcls\u001B[39m.list_path(), options[\u001B[33m'\u001B[39m\u001B[33mparams\u001B[39m\u001B[33m'\u001B[39m])\n\u001B[32m---> \u001B[39m\u001B[32m15\u001B[39m r = \u001B[43mConnection\u001B[49m\u001B[43m.\u001B[49m\u001B[43mrequest\u001B[49m\u001B[43m(\u001B[49m\u001B[33;43m'\u001B[39;49m\u001B[33;43mget\u001B[39;49m\u001B[33;43m'\u001B[39;49m\u001B[43m,\u001B[49m\u001B[43m \u001B[49m\u001B[43mpath\u001B[49m\u001B[43m,\u001B[49m\u001B[43m \u001B[49m\u001B[43m*\u001B[49m\u001B[43m*\u001B[49m\u001B[43moptions\u001B[49m\u001B[43m)\u001B[49m\n\u001B[32m     16\u001B[39m response_data = r.json()\n\u001B[32m     17\u001B[39m Util.convert_to_dates(response_data)\n",
      "\u001B[36mFile \u001B[39m\u001B[32mD:\\Programmes\\Anaconda\\envs\\AlgoTrading\\Lib\\site-packages\\quandl\\connection.py:38\u001B[39m, in \u001B[36mConnection.request\u001B[39m\u001B[34m(cls, http_verb, url, **options)\u001B[39m\n\u001B[32m     34\u001B[39m options[\u001B[33m'\u001B[39m\u001B[33mheaders\u001B[39m\u001B[33m'\u001B[39m] = headers\n\u001B[32m     36\u001B[39m abs_url = \u001B[33m'\u001B[39m\u001B[38;5;132;01m%s\u001B[39;00m\u001B[33m/\u001B[39m\u001B[38;5;132;01m%s\u001B[39;00m\u001B[33m'\u001B[39m % (ApiConfig.api_base, url)\n\u001B[32m---> \u001B[39m\u001B[32m38\u001B[39m \u001B[38;5;28;01mreturn\u001B[39;00m \u001B[38;5;28;43mcls\u001B[39;49m\u001B[43m.\u001B[49m\u001B[43mexecute_request\u001B[49m\u001B[43m(\u001B[49m\u001B[43mhttp_verb\u001B[49m\u001B[43m,\u001B[49m\u001B[43m \u001B[49m\u001B[43mabs_url\u001B[49m\u001B[43m,\u001B[49m\u001B[43m \u001B[49m\u001B[43m*\u001B[49m\u001B[43m*\u001B[49m\u001B[43moptions\u001B[49m\u001B[43m)\u001B[49m\n",
      "\u001B[36mFile \u001B[39m\u001B[32mD:\\Programmes\\Anaconda\\envs\\AlgoTrading\\Lib\\site-packages\\quandl\\connection.py:50\u001B[39m, in \u001B[36mConnection.execute_request\u001B[39m\u001B[34m(cls, http_verb, url, **options)\u001B[39m\n\u001B[32m     45\u001B[39m response = session.request(method=http_verb,\n\u001B[32m     46\u001B[39m                            url=url,\n\u001B[32m     47\u001B[39m                            verify=ApiConfig.verify_ssl,\n\u001B[32m     48\u001B[39m                            **options)\n\u001B[32m     49\u001B[39m \u001B[38;5;28;01mif\u001B[39;00m response.status_code < \u001B[32m200\u001B[39m \u001B[38;5;129;01mor\u001B[39;00m response.status_code >= \u001B[32m300\u001B[39m:\n\u001B[32m---> \u001B[39m\u001B[32m50\u001B[39m     \u001B[38;5;28;43mcls\u001B[39;49m\u001B[43m.\u001B[49m\u001B[43mhandle_api_error\u001B[49m\u001B[43m(\u001B[49m\u001B[43mresponse\u001B[49m\u001B[43m)\u001B[49m\n\u001B[32m     51\u001B[39m \u001B[38;5;28;01melse\u001B[39;00m:\n\u001B[32m     52\u001B[39m     \u001B[38;5;28;01mreturn\u001B[39;00m response\n",
      "\u001B[36mFile \u001B[39m\u001B[32mD:\\Programmes\\Anaconda\\envs\\AlgoTrading\\Lib\\site-packages\\quandl\\connection.py:90\u001B[39m, in \u001B[36mConnection.handle_api_error\u001B[39m\u001B[34m(cls, resp)\u001B[39m\n\u001B[32m     88\u001B[39m \u001B[38;5;129m@classmethod\u001B[39m\n\u001B[32m     89\u001B[39m \u001B[38;5;28;01mdef\u001B[39;00m\u001B[38;5;250m \u001B[39m\u001B[34mhandle_api_error\u001B[39m(\u001B[38;5;28mcls\u001B[39m, resp):\n\u001B[32m---> \u001B[39m\u001B[32m90\u001B[39m     error_body = \u001B[38;5;28;43mcls\u001B[39;49m\u001B[43m.\u001B[49m\u001B[43mparse\u001B[49m\u001B[43m(\u001B[49m\u001B[43mresp\u001B[49m\u001B[43m)\u001B[49m\n\u001B[32m     92\u001B[39m     \u001B[38;5;66;03m# if our app does not form a proper quandl_error response\u001B[39;00m\n\u001B[32m     93\u001B[39m     \u001B[38;5;66;03m# throw generic error\u001B[39;00m\n\u001B[32m     94\u001B[39m     \u001B[38;5;28;01mif\u001B[39;00m \u001B[33m'\u001B[39m\u001B[33mquandl_error\u001B[39m\u001B[33m'\u001B[39m \u001B[38;5;129;01mnot\u001B[39;00m \u001B[38;5;129;01min\u001B[39;00m error_body:\n",
      "\u001B[36mFile \u001B[39m\u001B[32mD:\\Programmes\\Anaconda\\envs\\AlgoTrading\\Lib\\site-packages\\quandl\\connection.py:86\u001B[39m, in \u001B[36mConnection.parse\u001B[39m\u001B[34m(cls, response)\u001B[39m\n\u001B[32m     84\u001B[39m     \u001B[38;5;28;01mreturn\u001B[39;00m response.json()\n\u001B[32m     85\u001B[39m \u001B[38;5;28;01mexcept\u001B[39;00m \u001B[38;5;167;01mValueError\u001B[39;00m:\n\u001B[32m---> \u001B[39m\u001B[32m86\u001B[39m     \u001B[38;5;28;01mraise\u001B[39;00m QuandlError(http_status=response.status_code, http_body=response.text)\n",
      "\u001B[31mQuandlError\u001B[39m: (Status 403) Something went wrong. Please try again. If you continue to have problems, please contact us at connect@quandl.com."
     ]
    }
   ],
   "execution_count": 5
  },
  {
   "cell_type": "code",
   "metadata": {
    "ExecuteTime": {
     "end_time": "2025-05-06T15:27:11.918677300Z",
     "start_time": "2025-04-26T14:28:29.012769Z"
    }
   },
   "source": [
    "d.tail()"
   ],
   "outputs": [
    {
     "ename": "NameError",
     "evalue": "name 'd' is not defined",
     "output_type": "error",
     "traceback": [
      "\u001B[31m---------------------------------------------------------------------------\u001B[39m",
      "\u001B[31mNameError\u001B[39m                                 Traceback (most recent call last)",
      "\u001B[36mCell\u001B[39m\u001B[36m \u001B[39m\u001B[32mIn[17]\u001B[39m\u001B[32m, line 1\u001B[39m\n\u001B[32m----> \u001B[39m\u001B[32m1\u001B[39m \u001B[43md\u001B[49m.tail()\n",
      "\u001B[31mNameError\u001B[39m: name 'd' is not defined"
     ]
    }
   ],
   "execution_count": 17
  },
  {
   "cell_type": "markdown",
   "metadata": {},
   "source": [
    "<img src=\"http://hilpisch.com/tpq_logo.png\" alt=\"The Python Quants\" width=\"35%\" align=\"right\" border=\"0\"><br>\n",
    "\n",
    "<a href=\"http://tpq.io\" target=\"_blank\">http://tpq.io</a> | <a href=\"http://twitter.com/dyjh\" target=\"_blank\">@dyjh</a> | <a href=\"mailto:training@tpq.io\">training@tpq.io</a>"
   ]
  }
 ],
 "metadata": {
  "anaconda-cloud": {},
  "kernelspec": {
   "display_name": "Python 3 (ipykernel)",
   "language": "python",
   "name": "python3"
  },
  "language_info": {
   "codemirror_mode": {
    "name": "ipython",
    "version": 3
   },
   "file_extension": ".py",
   "mimetype": "text/x-python",
   "name": "python",
   "nbconvert_exporter": "python",
   "pygments_lexer": "ipython3",
   "version": "3.10.12"
  }
 },
 "nbformat": 4,
 "nbformat_minor": 4
}
