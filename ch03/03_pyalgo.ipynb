{
 "cells": [
  {
   "cell_type": "markdown",
   "metadata": {},
   "source": [
    "<img src=\"http://hilpisch.com/tpq_logo.png\" alt=\"The Python Quants\" width=\"35%\" align=\"right\" border=\"0\"><br>"
   ]
  },
  {
   "cell_type": "markdown",
   "metadata": {},
   "source": [
    "# Python for Algorithmic Trading"
   ]
  },
  {
   "cell_type": "markdown",
   "metadata": {},
   "source": [
    "**Chapter 03 &mdash; Working with Financial Data**"
   ]
  },
  {
   "cell_type": "markdown",
   "metadata": {},
   "source": [
    "## Sample Data Set from Eikon"
   ]
  },
  {
   "cell_type": "markdown",
   "metadata": {},
   "source": [
    "## Reading Financial Data From Different Sources"
   ]
  },
  {
   "cell_type": "markdown",
   "metadata": {},
   "source": [
    "### The Data Set"
   ]
  },
  {
   "cell_type": "code",
   "metadata": {
    "ExecuteTime": {
     "end_time": "2025-05-06T16:10:06.768066Z",
     "start_time": "2025-05-06T16:10:06.764959Z"
    }
   },
   "source": [
    "fn = '../data/AAPL.csv'"
   ],
   "outputs": [],
   "execution_count": 1
  },
  {
   "cell_type": "code",
   "metadata": {
    "ExecuteTime": {
     "end_time": "2025-05-06T16:10:06.821766Z",
     "start_time": "2025-05-06T16:10:06.790149Z"
    }
   },
   "source": [
    "with open(fn, 'r') as f:\n",
    "    for _ in range(5):\n",
    "        print(f.readline(), end='')"
   ],
   "outputs": [
    {
     "name": "stdout",
     "output_type": "stream",
     "text": [
      "Date,HIGH,CLOSE,LOW,OPEN,COUNT,VOLUME\n",
      "2020-04-01,248.72,240.91,239.13,246.5,460606.0,44054638.0\n",
      "2020-04-02,245.15,244.93,236.9,240.34,380294.0,41483493.0\n",
      "2020-04-03,245.7,241.41,238.9741,242.8,293699.0,32470017.0\n",
      "2020-04-06,263.11,262.47,249.38,250.9,486681.0,50455071.0\n"
     ]
    }
   ],
   "execution_count": 2
  },
  {
   "cell_type": "markdown",
   "metadata": {},
   "source": [
    "### Reading from a CSV File with Python"
   ]
  },
  {
   "cell_type": "code",
   "metadata": {
    "ExecuteTime": {
     "end_time": "2025-05-06T16:10:06.996920Z",
     "start_time": "2025-05-06T16:10:06.993117Z"
    }
   },
   "source": [
    "import csv"
   ],
   "outputs": [],
   "execution_count": 3
  },
  {
   "cell_type": "code",
   "metadata": {
    "ExecuteTime": {
     "end_time": "2025-05-06T16:10:07.013576Z",
     "start_time": "2025-05-06T16:10:07.010095Z"
    }
   },
   "source": [
    "csv_reader = csv.reader(open(fn, 'r'))"
   ],
   "outputs": [],
   "execution_count": 4
  },
  {
   "cell_type": "code",
   "metadata": {
    "ExecuteTime": {
     "end_time": "2025-05-06T16:10:07.074690Z",
     "start_time": "2025-05-06T16:10:07.071392Z"
    }
   },
   "source": [
    "data = [l for l in csv_reader]"
   ],
   "outputs": [],
   "execution_count": 5
  },
  {
   "cell_type": "code",
   "metadata": {
    "ExecuteTime": {
     "end_time": "2025-05-06T16:10:07.112745Z",
     "start_time": "2025-05-06T16:10:07.107274Z"
    }
   },
   "source": [
    "data[:5]"
   ],
   "outputs": [
    {
     "data": {
      "text/plain": [
       "[['Date', 'HIGH', 'CLOSE', 'LOW', 'OPEN', 'COUNT', 'VOLUME'],\n",
       " ['2020-04-01',\n",
       "  '248.72',\n",
       "  '240.91',\n",
       "  '239.13',\n",
       "  '246.5',\n",
       "  '460606.0',\n",
       "  '44054638.0'],\n",
       " ['2020-04-02',\n",
       "  '245.15',\n",
       "  '244.93',\n",
       "  '236.9',\n",
       "  '240.34',\n",
       "  '380294.0',\n",
       "  '41483493.0'],\n",
       " ['2020-04-03',\n",
       "  '245.7',\n",
       "  '241.41',\n",
       "  '238.9741',\n",
       "  '242.8',\n",
       "  '293699.0',\n",
       "  '32470017.0'],\n",
       " ['2020-04-06',\n",
       "  '263.11',\n",
       "  '262.47',\n",
       "  '249.38',\n",
       "  '250.9',\n",
       "  '486681.0',\n",
       "  '50455071.0']]"
      ]
     },
     "execution_count": 6,
     "metadata": {},
     "output_type": "execute_result"
    }
   ],
   "execution_count": 6
  },
  {
   "cell_type": "code",
   "metadata": {
    "ExecuteTime": {
     "end_time": "2025-05-06T16:10:07.142067Z",
     "start_time": "2025-05-06T16:10:07.134096Z"
    }
   },
   "source": [
    "csv_reader = csv.DictReader(open(fn, 'r'))"
   ],
   "outputs": [],
   "execution_count": 7
  },
  {
   "cell_type": "code",
   "metadata": {
    "ExecuteTime": {
     "end_time": "2025-05-06T16:10:07.167890Z",
     "start_time": "2025-05-06T16:10:07.164824Z"
    }
   },
   "source": [
    "data = [l for l in csv_reader]"
   ],
   "outputs": [],
   "execution_count": 8
  },
  {
   "cell_type": "code",
   "metadata": {
    "ExecuteTime": {
     "end_time": "2025-05-06T16:10:07.196414Z",
     "start_time": "2025-05-06T16:10:07.193280Z"
    }
   },
   "source": [
    "data[:3]"
   ],
   "outputs": [
    {
     "data": {
      "text/plain": [
       "[{'Date': '2020-04-01',\n",
       "  'HIGH': '248.72',\n",
       "  'CLOSE': '240.91',\n",
       "  'LOW': '239.13',\n",
       "  'OPEN': '246.5',\n",
       "  'COUNT': '460606.0',\n",
       "  'VOLUME': '44054638.0'},\n",
       " {'Date': '2020-04-02',\n",
       "  'HIGH': '245.15',\n",
       "  'CLOSE': '244.93',\n",
       "  'LOW': '236.9',\n",
       "  'OPEN': '240.34',\n",
       "  'COUNT': '380294.0',\n",
       "  'VOLUME': '41483493.0'},\n",
       " {'Date': '2020-04-03',\n",
       "  'HIGH': '245.7',\n",
       "  'CLOSE': '241.41',\n",
       "  'LOW': '238.9741',\n",
       "  'OPEN': '242.8',\n",
       "  'COUNT': '293699.0',\n",
       "  'VOLUME': '32470017.0'}]"
      ]
     },
     "execution_count": 9,
     "metadata": {},
     "output_type": "execute_result"
    }
   ],
   "execution_count": 9
  },
  {
   "cell_type": "code",
   "metadata": {
    "ExecuteTime": {
     "end_time": "2025-05-06T16:10:07.229786Z",
     "start_time": "2025-05-06T16:10:07.225673Z"
    }
   },
   "source": [
    "sum([float(l['CLOSE']) for l in data]) / len(data)"
   ],
   "outputs": [
    {
     "data": {
      "text/plain": [
       "272.3861904761905"
      ]
     },
     "execution_count": 10,
     "metadata": {},
     "output_type": "execute_result"
    }
   ],
   "execution_count": 10
  },
  {
   "cell_type": "markdown",
   "metadata": {},
   "source": [
    "### Reading from a CSV File with pandas"
   ]
  },
  {
   "cell_type": "code",
   "metadata": {
    "ExecuteTime": {
     "end_time": "2025-05-06T16:10:07.259752Z",
     "start_time": "2025-05-06T16:10:07.256297Z"
    }
   },
   "source": [
    "import pandas as pd"
   ],
   "outputs": [],
   "execution_count": 11
  },
  {
   "cell_type": "code",
   "metadata": {
    "ExecuteTime": {
     "end_time": "2025-05-06T16:10:07.310297Z",
     "start_time": "2025-05-06T16:10:07.301865Z"
    }
   },
   "source": [
    "data = pd.read_csv(fn, index_col=0,\n",
    "                   parse_dates=True)"
   ],
   "outputs": [],
   "execution_count": 12
  },
  {
   "cell_type": "code",
   "metadata": {
    "ExecuteTime": {
     "end_time": "2025-05-06T16:10:07.331624Z",
     "start_time": "2025-05-06T16:10:07.325544Z"
    }
   },
   "source": [
    "data.info()"
   ],
   "outputs": [
    {
     "name": "stdout",
     "output_type": "stream",
     "text": [
      "<class 'pandas.core.frame.DataFrame'>\n",
      "DatetimeIndex: 21 entries, 2020-04-01 to 2020-04-30\n",
      "Data columns (total 6 columns):\n",
      " #   Column  Non-Null Count  Dtype  \n",
      "---  ------  --------------  -----  \n",
      " 0   HIGH    21 non-null     float64\n",
      " 1   CLOSE   21 non-null     float64\n",
      " 2   LOW     21 non-null     float64\n",
      " 3   OPEN    21 non-null     float64\n",
      " 4   COUNT   21 non-null     float64\n",
      " 5   VOLUME  21 non-null     float64\n",
      "dtypes: float64(6)\n",
      "memory usage: 1.1 KB\n"
     ]
    }
   ],
   "execution_count": 13
  },
  {
   "cell_type": "code",
   "metadata": {
    "ExecuteTime": {
     "end_time": "2025-05-06T16:10:07.363277Z",
     "start_time": "2025-05-06T16:10:07.353155Z"
    }
   },
   "source": [
    "data.tail()"
   ],
   "outputs": [
    {
     "data": {
      "text/plain": [
       "              HIGH   CLOSE     LOW    OPEN     COUNT      VOLUME\n",
       "Date                                                            \n",
       "2020-04-24  283.01  282.97  277.00  277.20  306176.0  31627183.0\n",
       "2020-04-27  284.54  283.17  279.95  281.80  300771.0  29271893.0\n",
       "2020-04-28  285.83  278.58  278.20  285.08  285384.0  28001187.0\n",
       "2020-04-29  289.67  287.73  283.89  284.73  324890.0  34320204.0\n",
       "2020-04-30  294.53  293.80  288.35  289.96  471129.0  45765968.0"
      ],
      "text/html": [
       "<div>\n",
       "<style scoped>\n",
       "    .dataframe tbody tr th:only-of-type {\n",
       "        vertical-align: middle;\n",
       "    }\n",
       "\n",
       "    .dataframe tbody tr th {\n",
       "        vertical-align: top;\n",
       "    }\n",
       "\n",
       "    .dataframe thead th {\n",
       "        text-align: right;\n",
       "    }\n",
       "</style>\n",
       "<table border=\"1\" class=\"dataframe\">\n",
       "  <thead>\n",
       "    <tr style=\"text-align: right;\">\n",
       "      <th></th>\n",
       "      <th>HIGH</th>\n",
       "      <th>CLOSE</th>\n",
       "      <th>LOW</th>\n",
       "      <th>OPEN</th>\n",
       "      <th>COUNT</th>\n",
       "      <th>VOLUME</th>\n",
       "    </tr>\n",
       "    <tr>\n",
       "      <th>Date</th>\n",
       "      <th></th>\n",
       "      <th></th>\n",
       "      <th></th>\n",
       "      <th></th>\n",
       "      <th></th>\n",
       "      <th></th>\n",
       "    </tr>\n",
       "  </thead>\n",
       "  <tbody>\n",
       "    <tr>\n",
       "      <th>2020-04-24</th>\n",
       "      <td>283.01</td>\n",
       "      <td>282.97</td>\n",
       "      <td>277.00</td>\n",
       "      <td>277.20</td>\n",
       "      <td>306176.0</td>\n",
       "      <td>31627183.0</td>\n",
       "    </tr>\n",
       "    <tr>\n",
       "      <th>2020-04-27</th>\n",
       "      <td>284.54</td>\n",
       "      <td>283.17</td>\n",
       "      <td>279.95</td>\n",
       "      <td>281.80</td>\n",
       "      <td>300771.0</td>\n",
       "      <td>29271893.0</td>\n",
       "    </tr>\n",
       "    <tr>\n",
       "      <th>2020-04-28</th>\n",
       "      <td>285.83</td>\n",
       "      <td>278.58</td>\n",
       "      <td>278.20</td>\n",
       "      <td>285.08</td>\n",
       "      <td>285384.0</td>\n",
       "      <td>28001187.0</td>\n",
       "    </tr>\n",
       "    <tr>\n",
       "      <th>2020-04-29</th>\n",
       "      <td>289.67</td>\n",
       "      <td>287.73</td>\n",
       "      <td>283.89</td>\n",
       "      <td>284.73</td>\n",
       "      <td>324890.0</td>\n",
       "      <td>34320204.0</td>\n",
       "    </tr>\n",
       "    <tr>\n",
       "      <th>2020-04-30</th>\n",
       "      <td>294.53</td>\n",
       "      <td>293.80</td>\n",
       "      <td>288.35</td>\n",
       "      <td>289.96</td>\n",
       "      <td>471129.0</td>\n",
       "      <td>45765968.0</td>\n",
       "    </tr>\n",
       "  </tbody>\n",
       "</table>\n",
       "</div>"
      ]
     },
     "execution_count": 14,
     "metadata": {},
     "output_type": "execute_result"
    }
   ],
   "execution_count": 14
  },
  {
   "cell_type": "code",
   "metadata": {
    "ExecuteTime": {
     "end_time": "2025-05-06T16:10:07.481094Z",
     "start_time": "2025-05-06T16:10:07.477061Z"
    }
   },
   "source": [
    "data['CLOSE'].mean()"
   ],
   "outputs": [
    {
     "data": {
      "text/plain": [
       "np.float64(272.38619047619056)"
      ]
     },
     "execution_count": 15,
     "metadata": {},
     "output_type": "execute_result"
    }
   ],
   "execution_count": 15
  },
  {
   "cell_type": "markdown",
   "metadata": {},
   "source": [
    "### Exporting to Excel and JSON"
   ]
  },
  {
   "cell_type": "markdown",
   "metadata": {},
   "source": [
    "Create the local `data` folder if necessary via\n",
    "\n",
    "    !mkdir data"
   ]
  },
  {
   "cell_type": "code",
   "metadata": {
    "ExecuteTime": {
     "end_time": "2025-05-06T16:10:07.710099Z",
     "start_time": "2025-05-06T16:10:07.581887Z"
    }
   },
   "source": "data.to_excel('./data/aapl.xlsx', 'AAPL')",
   "outputs": [
    {
     "name": "stderr",
     "output_type": "stream",
     "text": [
      "C:\\Users\\nicol\\AppData\\Local\\Temp\\ipykernel_10040\\1110238001.py:1: FutureWarning: Starting with pandas version 3.0 all arguments of to_excel except for the argument 'excel_writer' will be keyword-only.\n",
      "  data.to_excel('./data/aapl.xlsx', 'AAPL')\n"
     ]
    }
   ],
   "execution_count": 16
  },
  {
   "cell_type": "code",
   "metadata": {
    "ExecuteTime": {
     "end_time": "2025-05-06T16:10:07.952393Z",
     "start_time": "2025-05-06T16:10:07.949177Z"
    }
   },
   "source": [
    "data.to_json('data/aapl.json')"
   ],
   "outputs": [],
   "execution_count": 17
  },
  {
   "cell_type": "code",
   "metadata": {
    "ExecuteTime": {
     "end_time": "2025-05-06T16:10:08.158523Z",
     "start_time": "2025-05-06T16:10:08.156195Z"
    }
   },
   "source": "##ls -n data/",
   "outputs": [],
   "execution_count": 18
  },
  {
   "cell_type": "markdown",
   "metadata": {},
   "source": [
    "### Reading from Excel and JSON"
   ]
  },
  {
   "cell_type": "code",
   "metadata": {
    "ExecuteTime": {
     "end_time": "2025-05-06T16:10:08.517551Z",
     "start_time": "2025-05-06T16:10:08.505668Z"
    }
   },
   "source": [
    "data_copy_1 = pd.read_excel('data/aapl.xlsx', 'AAPL',\n",
    "                            index_col=0)"
   ],
   "outputs": [],
   "execution_count": 19
  },
  {
   "cell_type": "code",
   "metadata": {
    "ExecuteTime": {
     "end_time": "2025-05-06T16:10:08.902478Z",
     "start_time": "2025-05-06T16:10:08.894044Z"
    }
   },
   "source": [
    "data_copy_1.head()"
   ],
   "outputs": [
    {
     "data": {
      "text/plain": [
       "              HIGH   CLOSE       LOW    OPEN   COUNT    VOLUME\n",
       "Date                                                          \n",
       "2020-04-01  248.72  240.91  239.1300  246.50  460606  44054638\n",
       "2020-04-02  245.15  244.93  236.9000  240.34  380294  41483493\n",
       "2020-04-03  245.70  241.41  238.9741  242.80  293699  32470017\n",
       "2020-04-06  263.11  262.47  249.3800  250.90  486681  50455071\n",
       "2020-04-07  271.70  259.43  259.0000  270.80  467375  50721831"
      ],
      "text/html": [
       "<div>\n",
       "<style scoped>\n",
       "    .dataframe tbody tr th:only-of-type {\n",
       "        vertical-align: middle;\n",
       "    }\n",
       "\n",
       "    .dataframe tbody tr th {\n",
       "        vertical-align: top;\n",
       "    }\n",
       "\n",
       "    .dataframe thead th {\n",
       "        text-align: right;\n",
       "    }\n",
       "</style>\n",
       "<table border=\"1\" class=\"dataframe\">\n",
       "  <thead>\n",
       "    <tr style=\"text-align: right;\">\n",
       "      <th></th>\n",
       "      <th>HIGH</th>\n",
       "      <th>CLOSE</th>\n",
       "      <th>LOW</th>\n",
       "      <th>OPEN</th>\n",
       "      <th>COUNT</th>\n",
       "      <th>VOLUME</th>\n",
       "    </tr>\n",
       "    <tr>\n",
       "      <th>Date</th>\n",
       "      <th></th>\n",
       "      <th></th>\n",
       "      <th></th>\n",
       "      <th></th>\n",
       "      <th></th>\n",
       "      <th></th>\n",
       "    </tr>\n",
       "  </thead>\n",
       "  <tbody>\n",
       "    <tr>\n",
       "      <th>2020-04-01</th>\n",
       "      <td>248.72</td>\n",
       "      <td>240.91</td>\n",
       "      <td>239.1300</td>\n",
       "      <td>246.50</td>\n",
       "      <td>460606</td>\n",
       "      <td>44054638</td>\n",
       "    </tr>\n",
       "    <tr>\n",
       "      <th>2020-04-02</th>\n",
       "      <td>245.15</td>\n",
       "      <td>244.93</td>\n",
       "      <td>236.9000</td>\n",
       "      <td>240.34</td>\n",
       "      <td>380294</td>\n",
       "      <td>41483493</td>\n",
       "    </tr>\n",
       "    <tr>\n",
       "      <th>2020-04-03</th>\n",
       "      <td>245.70</td>\n",
       "      <td>241.41</td>\n",
       "      <td>238.9741</td>\n",
       "      <td>242.80</td>\n",
       "      <td>293699</td>\n",
       "      <td>32470017</td>\n",
       "    </tr>\n",
       "    <tr>\n",
       "      <th>2020-04-06</th>\n",
       "      <td>263.11</td>\n",
       "      <td>262.47</td>\n",
       "      <td>249.3800</td>\n",
       "      <td>250.90</td>\n",
       "      <td>486681</td>\n",
       "      <td>50455071</td>\n",
       "    </tr>\n",
       "    <tr>\n",
       "      <th>2020-04-07</th>\n",
       "      <td>271.70</td>\n",
       "      <td>259.43</td>\n",
       "      <td>259.0000</td>\n",
       "      <td>270.80</td>\n",
       "      <td>467375</td>\n",
       "      <td>50721831</td>\n",
       "    </tr>\n",
       "  </tbody>\n",
       "</table>\n",
       "</div>"
      ]
     },
     "execution_count": 20,
     "metadata": {},
     "output_type": "execute_result"
    }
   ],
   "execution_count": 20
  },
  {
   "cell_type": "code",
   "metadata": {
    "ExecuteTime": {
     "end_time": "2025-05-06T16:10:09.219446Z",
     "start_time": "2025-05-06T16:10:09.204943Z"
    }
   },
   "source": [
    "data_copy_2 = pd.read_json('data/aapl.json')"
   ],
   "outputs": [],
   "execution_count": 21
  },
  {
   "cell_type": "code",
   "metadata": {
    "ExecuteTime": {
     "end_time": "2025-05-06T16:10:09.482946Z",
     "start_time": "2025-05-06T16:10:09.475940Z"
    }
   },
   "source": [
    "data_copy_2.head()"
   ],
   "outputs": [
    {
     "data": {
      "text/plain": [
       "              HIGH   CLOSE       LOW    OPEN   COUNT    VOLUME\n",
       "2020-04-01  248.72  240.91  239.1300  246.50  460606  44054638\n",
       "2020-04-02  245.15  244.93  236.9000  240.34  380294  41483493\n",
       "2020-04-03  245.70  241.41  238.9741  242.80  293699  32470017\n",
       "2020-04-06  263.11  262.47  249.3800  250.90  486681  50455071\n",
       "2020-04-07  271.70  259.43  259.0000  270.80  467375  50721831"
      ],
      "text/html": [
       "<div>\n",
       "<style scoped>\n",
       "    .dataframe tbody tr th:only-of-type {\n",
       "        vertical-align: middle;\n",
       "    }\n",
       "\n",
       "    .dataframe tbody tr th {\n",
       "        vertical-align: top;\n",
       "    }\n",
       "\n",
       "    .dataframe thead th {\n",
       "        text-align: right;\n",
       "    }\n",
       "</style>\n",
       "<table border=\"1\" class=\"dataframe\">\n",
       "  <thead>\n",
       "    <tr style=\"text-align: right;\">\n",
       "      <th></th>\n",
       "      <th>HIGH</th>\n",
       "      <th>CLOSE</th>\n",
       "      <th>LOW</th>\n",
       "      <th>OPEN</th>\n",
       "      <th>COUNT</th>\n",
       "      <th>VOLUME</th>\n",
       "    </tr>\n",
       "  </thead>\n",
       "  <tbody>\n",
       "    <tr>\n",
       "      <th>2020-04-01</th>\n",
       "      <td>248.72</td>\n",
       "      <td>240.91</td>\n",
       "      <td>239.1300</td>\n",
       "      <td>246.50</td>\n",
       "      <td>460606</td>\n",
       "      <td>44054638</td>\n",
       "    </tr>\n",
       "    <tr>\n",
       "      <th>2020-04-02</th>\n",
       "      <td>245.15</td>\n",
       "      <td>244.93</td>\n",
       "      <td>236.9000</td>\n",
       "      <td>240.34</td>\n",
       "      <td>380294</td>\n",
       "      <td>41483493</td>\n",
       "    </tr>\n",
       "    <tr>\n",
       "      <th>2020-04-03</th>\n",
       "      <td>245.70</td>\n",
       "      <td>241.41</td>\n",
       "      <td>238.9741</td>\n",
       "      <td>242.80</td>\n",
       "      <td>293699</td>\n",
       "      <td>32470017</td>\n",
       "    </tr>\n",
       "    <tr>\n",
       "      <th>2020-04-06</th>\n",
       "      <td>263.11</td>\n",
       "      <td>262.47</td>\n",
       "      <td>249.3800</td>\n",
       "      <td>250.90</td>\n",
       "      <td>486681</td>\n",
       "      <td>50455071</td>\n",
       "    </tr>\n",
       "    <tr>\n",
       "      <th>2020-04-07</th>\n",
       "      <td>271.70</td>\n",
       "      <td>259.43</td>\n",
       "      <td>259.0000</td>\n",
       "      <td>270.80</td>\n",
       "      <td>467375</td>\n",
       "      <td>50721831</td>\n",
       "    </tr>\n",
       "  </tbody>\n",
       "</table>\n",
       "</div>"
      ]
     },
     "execution_count": 22,
     "metadata": {},
     "output_type": "execute_result"
    }
   ],
   "execution_count": 22
  },
  {
   "cell_type": "code",
   "metadata": {
    "ExecuteTime": {
     "end_time": "2025-05-06T16:10:10.001501Z",
     "start_time": "2025-05-06T16:10:09.960830Z"
    }
   },
   "source": [
    "!rm data/aapl.*"
   ],
   "outputs": [],
   "execution_count": 23
  },
  {
   "cell_type": "markdown",
   "metadata": {},
   "source": [
    "## Working with Open Data Sources"
   ]
  },
  {
   "cell_type": "code",
   "metadata": {
    "ExecuteTime": {
     "end_time": "2025-05-06T16:10:10.276771Z",
     "start_time": "2025-05-06T16:10:10.269747Z"
    }
   },
   "source": [
    "import configparser\n",
    "config = configparser.ConfigParser()\n",
    "config.read('../pyalgo.cfg')"
   ],
   "outputs": [
    {
     "data": {
      "text/plain": [
       "['../pyalgo.cfg']"
      ]
     },
     "execution_count": 24,
     "metadata": {},
     "output_type": "execute_result"
    }
   ],
   "execution_count": 24
  },
  {
   "cell_type": "code",
   "metadata": {
    "ExecuteTime": {
     "end_time": "2025-05-06T16:10:10.914411Z",
     "start_time": "2025-05-06T16:10:10.649875Z"
    }
   },
   "source": [
    "import quandl as q\n",
    "import configparser\n",
    "\n",
    "\n",
    "c = configparser.ConfigParser()\n",
    "c.read('../pyalgo.cfg')  # adjust path to your cred file\n",
    "\n",
    "q.ApiConfig.api_key = c['quandl']['api_key']\n",
    "\n",
    "data = q.get('BCHAIN/MKPRU', api_key=c['quandl']['api_key'])"
   ],
   "outputs": [],
   "execution_count": 25
  },
  {
   "cell_type": "code",
   "metadata": {
    "ExecuteTime": {
     "end_time": "2025-05-06T16:44:50.655520Z",
     "start_time": "2025-05-06T16:44:50.165368Z"
    }
   },
   "source": [
    "import pandas as pd\n",
    "import yfinance as yf\n",
    "import matplotlib.pyplot as plt\n",
    "\n",
    "# Télécharger les données Bitcoin\n",
    "data = yf.download('BTC-USD', start='2015-01-01')\n",
    "\n",
    "# Afficher les premières lignes\n",
    "print(btc_data.head())\n",
    "\n",
    "# Visualiser le prix de clôture\n",
    "plt.figure(figsize=(12, 6))\n",
    "plt.plot(btc_data['Close'])\n",
    "plt.title('Prix du Bitcoin (BTC-USD)')\n",
    "plt.xlabel('Date')\n",
    "plt.ylabel('Prix en USD')\n",
    "plt.grid(True)\n",
    "plt.show()\n",
    "\n",
    "\n"
   ],
   "outputs": [
    {
     "name": "stderr",
     "output_type": "stream",
     "text": [
      "[*********************100%***********************]  1 of 1 completed"
     ]
    },
    {
     "name": "stdout",
     "output_type": "stream",
     "text": [
      "Price            Close        High         Low        Open    Volume\n",
      "Ticker         BTC-USD     BTC-USD     BTC-USD     BTC-USD   BTC-USD\n",
      "Date                                                                \n",
      "2015-01-01  314.248993  320.434998  314.002991  320.434998   8036550\n",
      "2015-01-02  315.032013  315.838989  313.565002  314.079010   7860650\n",
      "2015-01-03  281.082001  315.149994  281.082001  314.846008  33054400\n",
      "2015-01-04  264.195007  287.230011  257.612000  281.145996  55629100\n",
      "2015-01-05  274.473999  278.341003  265.084015  265.084015  43962800\n"
     ]
    },
    {
     "name": "stderr",
     "output_type": "stream",
     "text": [
      "\n"
     ]
    },
    {
     "data": {
      "text/plain": [
       "<Figure size 1200x600 with 1 Axes>"
      ],
      "image/png": "[encoded data removed]"
     },
     "metadata": {},
     "output_type": "display_data"
    }
   ],
   "execution_count": 30
  },
  {
   "metadata": {
    "ExecuteTime": {
     "end_time": "2025-05-06T16:10:11.851505Z",
     "start_time": "2025-05-06T16:10:10.956311Z"
    }
   },
   "cell_type": "code",
   "outputs": [
    {
     "ename": "QuandlError",
     "evalue": "(Status 403) Something went wrong. Please try again. If you continue to have problems, please contact us at connect@quandl.com.",
     "output_type": "error",
     "traceback": [
      "\u001B[31m---------------------------------------------------------------------------\u001B[39m",
      "\u001B[31mJSONDecodeError\u001B[39m                           Traceback (most recent call last)",
      "\u001B[36mFile \u001B[39m\u001B[32m~\\AppData\\Roaming\\Python\\Python312\\site-packages\\requests\\models.py:974\u001B[39m, in \u001B[36mResponse.json\u001B[39m\u001B[34m(self, **kwargs)\u001B[39m\n\u001B[32m    973\u001B[39m \u001B[38;5;28;01mtry\u001B[39;00m:\n\u001B[32m--> \u001B[39m\u001B[32m974\u001B[39m     \u001B[38;5;28;01mreturn\u001B[39;00m \u001B[43mcomplexjson\u001B[49m\u001B[43m.\u001B[49m\u001B[43mloads\u001B[49m\u001B[43m(\u001B[49m\u001B[38;5;28;43mself\u001B[39;49m\u001B[43m.\u001B[49m\u001B[43mtext\u001B[49m\u001B[43m,\u001B[49m\u001B[43m \u001B[49m\u001B[43m*\u001B[49m\u001B[43m*\u001B[49m\u001B[43mkwargs\u001B[49m\u001B[43m)\u001B[49m\n\u001B[32m    975\u001B[39m \u001B[38;5;28;01mexcept\u001B[39;00m JSONDecodeError \u001B[38;5;28;01mas\u001B[39;00m e:\n\u001B[32m    976\u001B[39m     \u001B[38;5;66;03m# Catch JSON-related errors and raise as requests.JSONDecodeError\u001B[39;00m\n\u001B[32m    977\u001B[39m     \u001B[38;5;66;03m# This aliases json.JSONDecodeError and simplejson.JSONDecodeError\u001B[39;00m\n",
      "\u001B[36mFile \u001B[39m\u001B[32mD:\\Programmes\\Anaconda\\envs\\AlgoTrading\\Lib\\json\\__init__.py:346\u001B[39m, in \u001B[36mloads\u001B[39m\u001B[34m(s, cls, object_hook, parse_float, parse_int, parse_constant, object_pairs_hook, **kw)\u001B[39m\n\u001B[32m    343\u001B[39m \u001B[38;5;28;01mif\u001B[39;00m (\u001B[38;5;28mcls\u001B[39m \u001B[38;5;129;01mis\u001B[39;00m \u001B[38;5;28;01mNone\u001B[39;00m \u001B[38;5;129;01mand\u001B[39;00m object_hook \u001B[38;5;129;01mis\u001B[39;00m \u001B[38;5;28;01mNone\u001B[39;00m \u001B[38;5;129;01mand\u001B[39;00m\n\u001B[32m    344\u001B[39m         parse_int \u001B[38;5;129;01mis\u001B[39;00m \u001B[38;5;28;01mNone\u001B[39;00m \u001B[38;5;129;01mand\u001B[39;00m parse_float \u001B[38;5;129;01mis\u001B[39;00m \u001B[38;5;28;01mNone\u001B[39;00m \u001B[38;5;129;01mand\u001B[39;00m\n\u001B[32m    345\u001B[39m         parse_constant \u001B[38;5;129;01mis\u001B[39;00m \u001B[38;5;28;01mNone\u001B[39;00m \u001B[38;5;129;01mand\u001B[39;00m object_pairs_hook \u001B[38;5;129;01mis\u001B[39;00m \u001B[38;5;28;01mNone\u001B[39;00m \u001B[38;5;129;01mand\u001B[39;00m \u001B[38;5;129;01mnot\u001B[39;00m kw):\n\u001B[32m--> \u001B[39m\u001B[32m346\u001B[39m     \u001B[38;5;28;01mreturn\u001B[39;00m \u001B[43m_default_decoder\u001B[49m\u001B[43m.\u001B[49m\u001B[43mdecode\u001B[49m\u001B[43m(\u001B[49m\u001B[43ms\u001B[49m\u001B[43m)\u001B[49m\n\u001B[32m    347\u001B[39m \u001B[38;5;28;01mif\u001B[39;00m \u001B[38;5;28mcls\u001B[39m \u001B[38;5;129;01mis\u001B[39;00m \u001B[38;5;28;01mNone\u001B[39;00m:\n",
      "\u001B[36mFile \u001B[39m\u001B[32mD:\\Programmes\\Anaconda\\envs\\AlgoTrading\\Lib\\json\\decoder.py:338\u001B[39m, in \u001B[36mJSONDecoder.decode\u001B[39m\u001B[34m(self, s, _w)\u001B[39m\n\u001B[32m    334\u001B[39m \u001B[38;5;250m\u001B[39m\u001B[33;03m\"\"\"Return the Python representation of ``s`` (a ``str`` instance\u001B[39;00m\n\u001B[32m    335\u001B[39m \u001B[33;03mcontaining a JSON document).\u001B[39;00m\n\u001B[32m    336\u001B[39m \n\u001B[32m    337\u001B[39m \u001B[33;03m\"\"\"\u001B[39;00m\n\u001B[32m--> \u001B[39m\u001B[32m338\u001B[39m obj, end = \u001B[38;5;28;43mself\u001B[39;49m\u001B[43m.\u001B[49m\u001B[43mraw_decode\u001B[49m\u001B[43m(\u001B[49m\u001B[43ms\u001B[49m\u001B[43m,\u001B[49m\u001B[43m \u001B[49m\u001B[43midx\u001B[49m\u001B[43m=\u001B[49m\u001B[43m_w\u001B[49m\u001B[43m(\u001B[49m\u001B[43ms\u001B[49m\u001B[43m,\u001B[49m\u001B[43m \u001B[49m\u001B[32;43m0\u001B[39;49m\u001B[43m)\u001B[49m\u001B[43m.\u001B[49m\u001B[43mend\u001B[49m\u001B[43m(\u001B[49m\u001B[43m)\u001B[49m\u001B[43m)\u001B[49m\n\u001B[32m    339\u001B[39m end = _w(s, end).end()\n",
      "\u001B[36mFile \u001B[39m\u001B[32mD:\\Programmes\\Anaconda\\envs\\AlgoTrading\\Lib\\json\\decoder.py:356\u001B[39m, in \u001B[36mJSONDecoder.raw_decode\u001B[39m\u001B[34m(self, s, idx)\u001B[39m\n\u001B[32m    355\u001B[39m \u001B[38;5;28;01mexcept\u001B[39;00m \u001B[38;5;167;01mStopIteration\u001B[39;00m \u001B[38;5;28;01mas\u001B[39;00m err:\n\u001B[32m--> \u001B[39m\u001B[32m356\u001B[39m     \u001B[38;5;28;01mraise\u001B[39;00m JSONDecodeError(\u001B[33m\"\u001B[39m\u001B[33mExpecting value\u001B[39m\u001B[33m\"\u001B[39m, s, err.value) \u001B[38;5;28;01mfrom\u001B[39;00m\u001B[38;5;250m \u001B[39m\u001B[38;5;28;01mNone\u001B[39;00m\n\u001B[32m    357\u001B[39m \u001B[38;5;28;01mreturn\u001B[39;00m obj, end\n",
      "\u001B[31mJSONDecodeError\u001B[39m: Expecting value: line 1 column 1 (char 0)",
      "\nDuring handling of the above exception, another exception occurred:\n",
      "\u001B[31mJSONDecodeError\u001B[39m                           Traceback (most recent call last)",
      "\u001B[36mFile \u001B[39m\u001B[32mD:\\Programmes\\Anaconda\\envs\\AlgoTrading\\Lib\\site-packages\\quandl\\connection.py:84\u001B[39m, in \u001B[36mConnection.parse\u001B[39m\u001B[34m(cls, response)\u001B[39m\n\u001B[32m     83\u001B[39m \u001B[38;5;28;01mtry\u001B[39;00m:\n\u001B[32m---> \u001B[39m\u001B[32m84\u001B[39m     \u001B[38;5;28;01mreturn\u001B[39;00m \u001B[43mresponse\u001B[49m\u001B[43m.\u001B[49m\u001B[43mjson\u001B[49m\u001B[43m(\u001B[49m\u001B[43m)\u001B[49m\n\u001B[32m     85\u001B[39m \u001B[38;5;28;01mexcept\u001B[39;00m \u001B[38;5;167;01mValueError\u001B[39;00m:\n",
      "\u001B[36mFile \u001B[39m\u001B[32m~\\AppData\\Roaming\\Python\\Python312\\site-packages\\requests\\models.py:978\u001B[39m, in \u001B[36mResponse.json\u001B[39m\u001B[34m(self, **kwargs)\u001B[39m\n\u001B[32m    975\u001B[39m \u001B[38;5;28;01mexcept\u001B[39;00m JSONDecodeError \u001B[38;5;28;01mas\u001B[39;00m e:\n\u001B[32m    976\u001B[39m     \u001B[38;5;66;03m# Catch JSON-related errors and raise as requests.JSONDecodeError\u001B[39;00m\n\u001B[32m    977\u001B[39m     \u001B[38;5;66;03m# This aliases json.JSONDecodeError and simplejson.JSONDecodeError\u001B[39;00m\n\u001B[32m--> \u001B[39m\u001B[32m978\u001B[39m     \u001B[38;5;28;01mraise\u001B[39;00m RequestsJSONDecodeError(e.msg, e.doc, e.pos)\n",
      "\u001B[31mJSONDecodeError\u001B[39m: Expecting value: line 1 column 1 (char 0)",
      "\nDuring handling of the above exception, another exception occurred:\n",
      "\u001B[31mQuandlError\u001B[39m                               Traceback (most recent call last)",
      "\u001B[36mCell\u001B[39m\u001B[36m \u001B[39m\u001B[32mIn[26]\u001B[39m\u001B[32m, line 1\u001B[39m\n\u001B[32m----> \u001B[39m\u001B[32m1\u001B[39m data = \u001B[43mq\u001B[49m\u001B[43m.\u001B[49m\u001B[43mget\u001B[49m\u001B[43m(\u001B[49m\u001B[33;43m'\u001B[39;49m\u001B[33;43mBCHAIN/MKPRU\u001B[39;49m\u001B[33;43m'\u001B[39;49m\u001B[43m,\u001B[49m\u001B[43m \u001B[49m\u001B[43mapi_key\u001B[49m\u001B[43m=\u001B[49m\u001B[43mc\u001B[49m\u001B[43m[\u001B[49m\u001B[33;43m'\u001B[39;49m\u001B[33;43mquandl\u001B[39;49m\u001B[33;43m'\u001B[39;49m\u001B[43m]\u001B[49m\u001B[43m[\u001B[49m\u001B[33;43m'\u001B[39;49m\u001B[33;43mapi_key\u001B[39;49m\u001B[33;43m'\u001B[39;49m\u001B[43m]\u001B[49m\u001B[43m)\u001B[49m\n",
      "\u001B[36mFile \u001B[39m\u001B[32mD:\\Programmes\\Anaconda\\envs\\AlgoTrading\\Lib\\site-packages\\quandl\\get.py:48\u001B[39m, in \u001B[36mget\u001B[39m\u001B[34m(dataset, **kwargs)\u001B[39m\n\u001B[32m     46\u001B[39m     \u001B[38;5;28;01mif\u001B[39;00m dataset_args[\u001B[33m'\u001B[39m\u001B[33mcolumn_index\u001B[39m\u001B[33m'\u001B[39m] \u001B[38;5;129;01mis\u001B[39;00m \u001B[38;5;129;01mnot\u001B[39;00m \u001B[38;5;28;01mNone\u001B[39;00m:\n\u001B[32m     47\u001B[39m         kwargs.update({\u001B[33m'\u001B[39m\u001B[33mcolumn_index\u001B[39m\u001B[33m'\u001B[39m: dataset_args[\u001B[33m'\u001B[39m\u001B[33mcolumn_index\u001B[39m\u001B[33m'\u001B[39m]})\n\u001B[32m---> \u001B[39m\u001B[32m48\u001B[39m     data = \u001B[43mDataset\u001B[49m\u001B[43m(\u001B[49m\u001B[43mdataset_args\u001B[49m\u001B[43m[\u001B[49m\u001B[33;43m'\u001B[39;49m\u001B[33;43mcode\u001B[39;49m\u001B[33;43m'\u001B[39;49m\u001B[43m]\u001B[49m\u001B[43m)\u001B[49m\u001B[43m.\u001B[49m\u001B[43mdata\u001B[49m\u001B[43m(\u001B[49m\u001B[43mparams\u001B[49m\u001B[43m=\u001B[49m\u001B[43mkwargs\u001B[49m\u001B[43m,\u001B[49m\u001B[43m \u001B[49m\u001B[43mhandle_column_not_found\u001B[49m\u001B[43m=\u001B[49m\u001B[38;5;28;43;01mTrue\u001B[39;49;00m\u001B[43m)\u001B[49m\n\u001B[32m     49\u001B[39m \u001B[38;5;66;03m# Array\u001B[39;00m\n\u001B[32m     50\u001B[39m \u001B[38;5;28;01melif\u001B[39;00m \u001B[38;5;28misinstance\u001B[39m(dataset, \u001B[38;5;28mlist\u001B[39m):\n",
      "\u001B[36mFile \u001B[39m\u001B[32mD:\\Programmes\\Anaconda\\envs\\AlgoTrading\\Lib\\site-packages\\quandl\\model\\dataset.py:47\u001B[39m, in \u001B[36mDataset.data\u001B[39m\u001B[34m(self, **options)\u001B[39m\n\u001B[32m     45\u001B[39m updated_options = Util.merge_options(\u001B[33m'\u001B[39m\u001B[33mparams\u001B[39m\u001B[33m'\u001B[39m, params, **options)\n\u001B[32m     46\u001B[39m \u001B[38;5;28;01mtry\u001B[39;00m:\n\u001B[32m---> \u001B[39m\u001B[32m47\u001B[39m     \u001B[38;5;28;01mreturn\u001B[39;00m \u001B[43mData\u001B[49m\u001B[43m.\u001B[49m\u001B[43mall\u001B[49m\u001B[43m(\u001B[49m\u001B[43m*\u001B[49m\u001B[43m*\u001B[49m\u001B[43mupdated_options\u001B[49m\u001B[43m)\u001B[49m\n\u001B[32m     48\u001B[39m \u001B[38;5;28;01mexcept\u001B[39;00m NotFoundError:\n\u001B[32m     49\u001B[39m     \u001B[38;5;28;01mif\u001B[39;00m handle_not_found_error:\n",
      "\u001B[36mFile \u001B[39m\u001B[32mD:\\Programmes\\Anaconda\\envs\\AlgoTrading\\Lib\\site-packages\\quandl\\operations\\list.py:15\u001B[39m, in \u001B[36mListOperation.all\u001B[39m\u001B[34m(cls, **options)\u001B[39m\n\u001B[32m     13\u001B[39m     options[\u001B[33m'\u001B[39m\u001B[33mparams\u001B[39m\u001B[33m'\u001B[39m] = {}\n\u001B[32m     14\u001B[39m path = Util.constructed_path(\u001B[38;5;28mcls\u001B[39m.list_path(), options[\u001B[33m'\u001B[39m\u001B[33mparams\u001B[39m\u001B[33m'\u001B[39m])\n\u001B[32m---> \u001B[39m\u001B[32m15\u001B[39m r = \u001B[43mConnection\u001B[49m\u001B[43m.\u001B[49m\u001B[43mrequest\u001B[49m\u001B[43m(\u001B[49m\u001B[33;43m'\u001B[39;49m\u001B[33;43mget\u001B[39;49m\u001B[33;43m'\u001B[39;49m\u001B[43m,\u001B[49m\u001B[43m \u001B[49m\u001B[43mpath\u001B[49m\u001B[43m,\u001B[49m\u001B[43m \u001B[49m\u001B[43m*\u001B[49m\u001B[43m*\u001B[49m\u001B[43moptions\u001B[49m\u001B[43m)\u001B[49m\n\u001B[32m     16\u001B[39m response_data = r.json()\n\u001B[32m     17\u001B[39m Util.convert_to_dates(response_data)\n",
      "\u001B[36mFile \u001B[39m\u001B[32mD:\\Programmes\\Anaconda\\envs\\AlgoTrading\\Lib\\site-packages\\quandl\\connection.py:38\u001B[39m, in \u001B[36mConnection.request\u001B[39m\u001B[34m(cls, http_verb, url, **options)\u001B[39m\n\u001B[32m     34\u001B[39m options[\u001B[33m'\u001B[39m\u001B[33mheaders\u001B[39m\u001B[33m'\u001B[39m] = headers\n\u001B[32m     36\u001B[39m abs_url = \u001B[33m'\u001B[39m\u001B[38;5;132;01m%s\u001B[39;00m\u001B[33m/\u001B[39m\u001B[38;5;132;01m%s\u001B[39;00m\u001B[33m'\u001B[39m % (ApiConfig.api_base, url)\n\u001B[32m---> \u001B[39m\u001B[32m38\u001B[39m \u001B[38;5;28;01mreturn\u001B[39;00m \u001B[38;5;28;43mcls\u001B[39;49m\u001B[43m.\u001B[49m\u001B[43mexecute_request\u001B[49m\u001B[43m(\u001B[49m\u001B[43mhttp_verb\u001B[49m\u001B[43m,\u001B[49m\u001B[43m \u001B[49m\u001B[43mabs_url\u001B[49m\u001B[43m,\u001B[49m\u001B[43m \u001B[49m\u001B[43m*\u001B[49m\u001B[43m*\u001B[49m\u001B[43moptions\u001B[49m\u001B[43m)\u001B[49m\n",
      "\u001B[36mFile \u001B[39m\u001B[32mD:\\Programmes\\Anaconda\\envs\\AlgoTrading\\Lib\\site-packages\\quandl\\connection.py:50\u001B[39m, in \u001B[36mConnection.execute_request\u001B[39m\u001B[34m(cls, http_verb, url, **options)\u001B[39m\n\u001B[32m     45\u001B[39m response = session.request(method=http_verb,\n\u001B[32m     46\u001B[39m                            url=url,\n\u001B[32m     47\u001B[39m                            verify=ApiConfig.verify_ssl,\n\u001B[32m     48\u001B[39m                            **options)\n\u001B[32m     49\u001B[39m \u001B[38;5;28;01mif\u001B[39;00m response.status_code < \u001B[32m200\u001B[39m \u001B[38;5;129;01mor\u001B[39;00m response.status_code >= \u001B[32m300\u001B[39m:\n\u001B[32m---> \u001B[39m\u001B[32m50\u001B[39m     \u001B[38;5;28;43mcls\u001B[39;49m\u001B[43m.\u001B[49m\u001B[43mhandle_api_error\u001B[49m\u001B[43m(\u001B[49m\u001B[43mresponse\u001B[49m\u001B[43m)\u001B[49m\n\u001B[32m     51\u001B[39m \u001B[38;5;28;01melse\u001B[39;00m:\n\u001B[32m     52\u001B[39m     \u001B[38;5;28;01mreturn\u001B[39;00m response\n",
      "\u001B[36mFile \u001B[39m\u001B[32mD:\\Programmes\\Anaconda\\envs\\AlgoTrading\\Lib\\site-packages\\quandl\\connection.py:90\u001B[39m, in \u001B[36mConnection.handle_api_error\u001B[39m\u001B[34m(cls, resp)\u001B[39m\n\u001B[32m     88\u001B[39m \u001B[38;5;129m@classmethod\u001B[39m\n\u001B[32m     89\u001B[39m \u001B[38;5;28;01mdef\u001B[39;00m\u001B[38;5;250m \u001B[39m\u001B[34mhandle_api_error\u001B[39m(\u001B[38;5;28mcls\u001B[39m, resp):\n\u001B[32m---> \u001B[39m\u001B[32m90\u001B[39m     error_body = \u001B[38;5;28;43mcls\u001B[39;49m\u001B[43m.\u001B[49m\u001B[43mparse\u001B[49m\u001B[43m(\u001B[49m\u001B[43mresp\u001B[49m\u001B[43m)\u001B[49m\n\u001B[32m     92\u001B[39m     \u001B[38;5;66;03m# if our app does not form a proper quandl_error response\u001B[39;00m\n\u001B[32m     93\u001B[39m     \u001B[38;5;66;03m# throw generic error\u001B[39;00m\n\u001B[32m     94\u001B[39m     \u001B[38;5;28;01mif\u001B[39;00m \u001B[33m'\u001B[39m\u001B[33mquandl_error\u001B[39m\u001B[33m'\u001B[39m \u001B[38;5;129;01mnot\u001B[39;00m \u001B[38;5;129;01min\u001B[39;00m error_body:\n",
      "\u001B[36mFile \u001B[39m\u001B[32mD:\\Programmes\\Anaconda\\envs\\AlgoTrading\\Lib\\site-packages\\quandl\\connection.py:86\u001B[39m, in \u001B[36mConnection.parse\u001B[39m\u001B[34m(cls, response)\u001B[39m\n\u001B[32m     84\u001B[39m     \u001B[38;5;28;01mreturn\u001B[39;00m response.json()\n\u001B[32m     85\u001B[39m \u001B[38;5;28;01mexcept\u001B[39;00m \u001B[38;5;167;01mValueError\u001B[39;00m:\n\u001B[32m---> \u001B[39m\u001B[32m86\u001B[39m     \u001B[38;5;28;01mraise\u001B[39;00m QuandlError(http_status=response.status_code, http_body=response.text)\n",
      "\u001B[31mQuandlError\u001B[39m: (Status 403) Something went wrong. Please try again. If you continue to have problems, please contact us at connect@quandl.com."
     ]
    }
   ],
   "execution_count": 26,
   "source": ""
  },
  {
   "cell_type": "code",
   "metadata": {
    "ExecuteTime": {
     "end_time": "2025-05-06T16:44:55.354689Z",
     "start_time": "2025-05-06T16:44:55.345789Z"
    }
   },
   "source": [
    "data.info()"
   ],
   "outputs": [
    {
     "name": "stdout",
     "output_type": "stream",
     "text": [
      "<class 'pandas.core.frame.DataFrame'>\n",
      "DatetimeIndex: 3779 entries, 2015-01-01 to 2025-05-06\n",
      "Data columns (total 5 columns):\n",
      " #   Column             Non-Null Count  Dtype  \n",
      "---  ------             --------------  -----  \n",
      " 0   (Close, BTC-USD)   3779 non-null   float64\n",
      " 1   (High, BTC-USD)    3779 non-null   float64\n",
      " 2   (Low, BTC-USD)     3779 non-null   float64\n",
      " 3   (Open, BTC-USD)    3779 non-null   float64\n",
      " 4   (Volume, BTC-USD)  3779 non-null   int64  \n",
      "dtypes: float64(4), int64(1)\n",
      "memory usage: 177.1 KB\n"
     ]
    }
   ],
   "execution_count": 31
  },
  {
   "cell_type": "code",
   "metadata": {
    "ExecuteTime": {
     "end_time": "2025-05-06T16:44:55.923719Z",
     "start_time": "2025-05-06T16:44:55.373601Z"
    }
   },
   "source": [
    "data['Value'].resample('A').last()"
   ],
   "outputs": [
    {
     "ename": "KeyError",
     "evalue": "'Value'",
     "output_type": "error",
     "traceback": [
      "\u001B[31m---------------------------------------------------------------------------\u001B[39m",
      "\u001B[31mKeyError\u001B[39m                                  Traceback (most recent call last)",
      "\u001B[36mFile \u001B[39m\u001B[32mD:\\Programmes\\Anaconda\\envs\\AlgoTrading\\Lib\\site-packages\\pandas\\core\\indexes\\base.py:3805\u001B[39m, in \u001B[36mIndex.get_loc\u001B[39m\u001B[34m(self, key)\u001B[39m\n\u001B[32m   3804\u001B[39m \u001B[38;5;28;01mtry\u001B[39;00m:\n\u001B[32m-> \u001B[39m\u001B[32m3805\u001B[39m     \u001B[38;5;28;01mreturn\u001B[39;00m \u001B[38;5;28;43mself\u001B[39;49m\u001B[43m.\u001B[49m\u001B[43m_engine\u001B[49m\u001B[43m.\u001B[49m\u001B[43mget_loc\u001B[49m\u001B[43m(\u001B[49m\u001B[43mcasted_key\u001B[49m\u001B[43m)\u001B[49m\n\u001B[32m   3806\u001B[39m \u001B[38;5;28;01mexcept\u001B[39;00m \u001B[38;5;167;01mKeyError\u001B[39;00m \u001B[38;5;28;01mas\u001B[39;00m err:\n",
      "\u001B[36mFile \u001B[39m\u001B[32mindex.pyx:167\u001B[39m, in \u001B[36mpandas._libs.index.IndexEngine.get_loc\u001B[39m\u001B[34m()\u001B[39m\n",
      "\u001B[36mFile \u001B[39m\u001B[32mindex.pyx:196\u001B[39m, in \u001B[36mpandas._libs.index.IndexEngine.get_loc\u001B[39m\u001B[34m()\u001B[39m\n",
      "\u001B[36mFile \u001B[39m\u001B[32mpandas\\\\_libs\\\\hashtable_class_helper.pxi:7081\u001B[39m, in \u001B[36mpandas._libs.hashtable.PyObjectHashTable.get_item\u001B[39m\u001B[34m()\u001B[39m\n",
      "\u001B[36mFile \u001B[39m\u001B[32mpandas\\\\_libs\\\\hashtable_class_helper.pxi:7089\u001B[39m, in \u001B[36mpandas._libs.hashtable.PyObjectHashTable.get_item\u001B[39m\u001B[34m()\u001B[39m\n",
      "\u001B[31mKeyError\u001B[39m: 'Value'",
      "\nThe above exception was the direct cause of the following exception:\n",
      "\u001B[31mKeyError\u001B[39m                                  Traceback (most recent call last)",
      "\u001B[36mCell\u001B[39m\u001B[36m \u001B[39m\u001B[32mIn[32]\u001B[39m\u001B[32m, line 1\u001B[39m\n\u001B[32m----> \u001B[39m\u001B[32m1\u001B[39m \u001B[43mdata\u001B[49m\u001B[43m[\u001B[49m\u001B[33;43m'\u001B[39;49m\u001B[33;43mValue\u001B[39;49m\u001B[33;43m'\u001B[39;49m\u001B[43m]\u001B[49m.resample(\u001B[33m'\u001B[39m\u001B[33mA\u001B[39m\u001B[33m'\u001B[39m).last()\n",
      "\u001B[36mFile \u001B[39m\u001B[32mD:\\Programmes\\Anaconda\\envs\\AlgoTrading\\Lib\\site-packages\\pandas\\core\\frame.py:4101\u001B[39m, in \u001B[36mDataFrame.__getitem__\u001B[39m\u001B[34m(self, key)\u001B[39m\n\u001B[32m   4099\u001B[39m \u001B[38;5;28;01mif\u001B[39;00m is_single_key:\n\u001B[32m   4100\u001B[39m     \u001B[38;5;28;01mif\u001B[39;00m \u001B[38;5;28mself\u001B[39m.columns.nlevels > \u001B[32m1\u001B[39m:\n\u001B[32m-> \u001B[39m\u001B[32m4101\u001B[39m         \u001B[38;5;28;01mreturn\u001B[39;00m \u001B[38;5;28;43mself\u001B[39;49m\u001B[43m.\u001B[49m\u001B[43m_getitem_multilevel\u001B[49m\u001B[43m(\u001B[49m\u001B[43mkey\u001B[49m\u001B[43m)\u001B[49m\n\u001B[32m   4102\u001B[39m     indexer = \u001B[38;5;28mself\u001B[39m.columns.get_loc(key)\n\u001B[32m   4103\u001B[39m     \u001B[38;5;28;01mif\u001B[39;00m is_integer(indexer):\n",
      "\u001B[36mFile \u001B[39m\u001B[32mD:\\Programmes\\Anaconda\\envs\\AlgoTrading\\Lib\\site-packages\\pandas\\core\\frame.py:4159\u001B[39m, in \u001B[36mDataFrame._getitem_multilevel\u001B[39m\u001B[34m(self, key)\u001B[39m\n\u001B[32m   4157\u001B[39m \u001B[38;5;28;01mdef\u001B[39;00m\u001B[38;5;250m \u001B[39m\u001B[34m_getitem_multilevel\u001B[39m(\u001B[38;5;28mself\u001B[39m, key):\n\u001B[32m   4158\u001B[39m     \u001B[38;5;66;03m# self.columns is a MultiIndex\u001B[39;00m\n\u001B[32m-> \u001B[39m\u001B[32m4159\u001B[39m     loc = \u001B[38;5;28;43mself\u001B[39;49m\u001B[43m.\u001B[49m\u001B[43mcolumns\u001B[49m\u001B[43m.\u001B[49m\u001B[43mget_loc\u001B[49m\u001B[43m(\u001B[49m\u001B[43mkey\u001B[49m\u001B[43m)\u001B[49m\n\u001B[32m   4160\u001B[39m     \u001B[38;5;28;01mif\u001B[39;00m \u001B[38;5;28misinstance\u001B[39m(loc, (\u001B[38;5;28mslice\u001B[39m, np.ndarray)):\n\u001B[32m   4161\u001B[39m         new_columns = \u001B[38;5;28mself\u001B[39m.columns[loc]\n",
      "\u001B[36mFile \u001B[39m\u001B[32mD:\\Programmes\\Anaconda\\envs\\AlgoTrading\\Lib\\site-packages\\pandas\\core\\indexes\\multi.py:3040\u001B[39m, in \u001B[36mMultiIndex.get_loc\u001B[39m\u001B[34m(self, key)\u001B[39m\n\u001B[32m   3037\u001B[39m     \u001B[38;5;28;01mreturn\u001B[39;00m mask\n\u001B[32m   3039\u001B[39m \u001B[38;5;28;01mif\u001B[39;00m \u001B[38;5;129;01mnot\u001B[39;00m \u001B[38;5;28misinstance\u001B[39m(key, \u001B[38;5;28mtuple\u001B[39m):\n\u001B[32m-> \u001B[39m\u001B[32m3040\u001B[39m     loc = \u001B[38;5;28;43mself\u001B[39;49m\u001B[43m.\u001B[49m\u001B[43m_get_level_indexer\u001B[49m\u001B[43m(\u001B[49m\u001B[43mkey\u001B[49m\u001B[43m,\u001B[49m\u001B[43m \u001B[49m\u001B[43mlevel\u001B[49m\u001B[43m=\u001B[49m\u001B[32;43m0\u001B[39;49m\u001B[43m)\u001B[49m\n\u001B[32m   3041\u001B[39m     \u001B[38;5;28;01mreturn\u001B[39;00m _maybe_to_slice(loc)\n\u001B[32m   3043\u001B[39m keylen = \u001B[38;5;28mlen\u001B[39m(key)\n",
      "\u001B[36mFile \u001B[39m\u001B[32mD:\\Programmes\\Anaconda\\envs\\AlgoTrading\\Lib\\site-packages\\pandas\\core\\indexes\\multi.py:3391\u001B[39m, in \u001B[36mMultiIndex._get_level_indexer\u001B[39m\u001B[34m(self, key, level, indexer)\u001B[39m\n\u001B[32m   3388\u001B[39m         \u001B[38;5;28;01mreturn\u001B[39;00m \u001B[38;5;28mslice\u001B[39m(i, j, step)\n\u001B[32m   3390\u001B[39m \u001B[38;5;28;01melse\u001B[39;00m:\n\u001B[32m-> \u001B[39m\u001B[32m3391\u001B[39m     idx = \u001B[38;5;28;43mself\u001B[39;49m\u001B[43m.\u001B[49m\u001B[43m_get_loc_single_level_index\u001B[49m\u001B[43m(\u001B[49m\u001B[43mlevel_index\u001B[49m\u001B[43m,\u001B[49m\u001B[43m \u001B[49m\u001B[43mkey\u001B[49m\u001B[43m)\u001B[49m\n\u001B[32m   3393\u001B[39m     \u001B[38;5;28;01mif\u001B[39;00m level > \u001B[32m0\u001B[39m \u001B[38;5;129;01mor\u001B[39;00m \u001B[38;5;28mself\u001B[39m._lexsort_depth == \u001B[32m0\u001B[39m:\n\u001B[32m   3394\u001B[39m         \u001B[38;5;66;03m# Desired level is not sorted\u001B[39;00m\n\u001B[32m   3395\u001B[39m         \u001B[38;5;28;01mif\u001B[39;00m \u001B[38;5;28misinstance\u001B[39m(idx, \u001B[38;5;28mslice\u001B[39m):\n\u001B[32m   3396\u001B[39m             \u001B[38;5;66;03m# test_get_loc_partial_timestamp_multiindex\u001B[39;00m\n",
      "\u001B[36mFile \u001B[39m\u001B[32mD:\\Programmes\\Anaconda\\envs\\AlgoTrading\\Lib\\site-packages\\pandas\\core\\indexes\\multi.py:2980\u001B[39m, in \u001B[36mMultiIndex._get_loc_single_level_index\u001B[39m\u001B[34m(self, level_index, key)\u001B[39m\n\u001B[32m   2978\u001B[39m     \u001B[38;5;28;01mreturn\u001B[39;00m -\u001B[32m1\u001B[39m\n\u001B[32m   2979\u001B[39m \u001B[38;5;28;01melse\u001B[39;00m:\n\u001B[32m-> \u001B[39m\u001B[32m2980\u001B[39m     \u001B[38;5;28;01mreturn\u001B[39;00m \u001B[43mlevel_index\u001B[49m\u001B[43m.\u001B[49m\u001B[43mget_loc\u001B[49m\u001B[43m(\u001B[49m\u001B[43mkey\u001B[49m\u001B[43m)\u001B[49m\n",
      "\u001B[36mFile \u001B[39m\u001B[32mD:\\Programmes\\Anaconda\\envs\\AlgoTrading\\Lib\\site-packages\\pandas\\core\\indexes\\base.py:3812\u001B[39m, in \u001B[36mIndex.get_loc\u001B[39m\u001B[34m(self, key)\u001B[39m\n\u001B[32m   3807\u001B[39m     \u001B[38;5;28;01mif\u001B[39;00m \u001B[38;5;28misinstance\u001B[39m(casted_key, \u001B[38;5;28mslice\u001B[39m) \u001B[38;5;129;01mor\u001B[39;00m (\n\u001B[32m   3808\u001B[39m         \u001B[38;5;28misinstance\u001B[39m(casted_key, abc.Iterable)\n\u001B[32m   3809\u001B[39m         \u001B[38;5;129;01mand\u001B[39;00m \u001B[38;5;28many\u001B[39m(\u001B[38;5;28misinstance\u001B[39m(x, \u001B[38;5;28mslice\u001B[39m) \u001B[38;5;28;01mfor\u001B[39;00m x \u001B[38;5;129;01min\u001B[39;00m casted_key)\n\u001B[32m   3810\u001B[39m     ):\n\u001B[32m   3811\u001B[39m         \u001B[38;5;28;01mraise\u001B[39;00m InvalidIndexError(key)\n\u001B[32m-> \u001B[39m\u001B[32m3812\u001B[39m     \u001B[38;5;28;01mraise\u001B[39;00m \u001B[38;5;167;01mKeyError\u001B[39;00m(key) \u001B[38;5;28;01mfrom\u001B[39;00m\u001B[38;5;250m \u001B[39m\u001B[34;01merr\u001B[39;00m\n\u001B[32m   3813\u001B[39m \u001B[38;5;28;01mexcept\u001B[39;00m \u001B[38;5;167;01mTypeError\u001B[39;00m:\n\u001B[32m   3814\u001B[39m     \u001B[38;5;66;03m# If we have a listlike key, _check_indexing_error will raise\u001B[39;00m\n\u001B[32m   3815\u001B[39m     \u001B[38;5;66;03m#  InvalidIndexError. Otherwise we fall through and re-raise\u001B[39;00m\n\u001B[32m   3816\u001B[39m     \u001B[38;5;66;03m#  the TypeError.\u001B[39;00m\n\u001B[32m   3817\u001B[39m     \u001B[38;5;28mself\u001B[39m._check_indexing_error(key)\n",
      "\u001B[31mKeyError\u001B[39m: 'Value'"
     ]
    }
   ],
   "execution_count": 32
  },
  {
   "cell_type": "code",
   "metadata": {
    "ExecuteTime": {
     "end_time": "2025-05-06T16:45:29.335902Z",
     "start_time": "2025-05-06T16:45:28.921737Z"
    }
   },
   "source": [
    "data = q.get('FSE/SAP_X', start_date='2018-1-1',\n",
    "             end_date='2023-10-01',\n",
    "             api_key=config['quandl']['api_key'])"
   ],
   "outputs": [
    {
     "ename": "QuandlError",
     "evalue": "(Status 403) Something went wrong. Please try again. If you continue to have problems, please contact us at connect@quandl.com.",
     "output_type": "error",
     "traceback": [
      "\u001B[31m---------------------------------------------------------------------------\u001B[39m",
      "\u001B[31mJSONDecodeError\u001B[39m                           Traceback (most recent call last)",
      "\u001B[36mFile \u001B[39m\u001B[32m~\\AppData\\Roaming\\Python\\Python312\\site-packages\\requests\\models.py:974\u001B[39m, in \u001B[36mResponse.json\u001B[39m\u001B[34m(self, **kwargs)\u001B[39m\n\u001B[32m    973\u001B[39m \u001B[38;5;28;01mtry\u001B[39;00m:\n\u001B[32m--> \u001B[39m\u001B[32m974\u001B[39m     \u001B[38;5;28;01mreturn\u001B[39;00m \u001B[43mcomplexjson\u001B[49m\u001B[43m.\u001B[49m\u001B[43mloads\u001B[49m\u001B[43m(\u001B[49m\u001B[38;5;28;43mself\u001B[39;49m\u001B[43m.\u001B[49m\u001B[43mtext\u001B[49m\u001B[43m,\u001B[49m\u001B[43m \u001B[49m\u001B[43m*\u001B[49m\u001B[43m*\u001B[49m\u001B[43mkwargs\u001B[49m\u001B[43m)\u001B[49m\n\u001B[32m    975\u001B[39m \u001B[38;5;28;01mexcept\u001B[39;00m JSONDecodeError \u001B[38;5;28;01mas\u001B[39;00m e:\n\u001B[32m    976\u001B[39m     \u001B[38;5;66;03m# Catch JSON-related errors and raise as requests.JSONDecodeError\u001B[39;00m\n\u001B[32m    977\u001B[39m     \u001B[38;5;66;03m# This aliases json.JSONDecodeError and simplejson.JSONDecodeError\u001B[39;00m\n",
      "\u001B[36mFile \u001B[39m\u001B[32mD:\\Programmes\\Anaconda\\envs\\AlgoTrading\\Lib\\json\\__init__.py:346\u001B[39m, in \u001B[36mloads\u001B[39m\u001B[34m(s, cls, object_hook, parse_float, parse_int, parse_constant, object_pairs_hook, **kw)\u001B[39m\n\u001B[32m    343\u001B[39m \u001B[38;5;28;01mif\u001B[39;00m (\u001B[38;5;28mcls\u001B[39m \u001B[38;5;129;01mis\u001B[39;00m \u001B[38;5;28;01mNone\u001B[39;00m \u001B[38;5;129;01mand\u001B[39;00m object_hook \u001B[38;5;129;01mis\u001B[39;00m \u001B[38;5;28;01mNone\u001B[39;00m \u001B[38;5;129;01mand\u001B[39;00m\n\u001B[32m    344\u001B[39m         parse_int \u001B[38;5;129;01mis\u001B[39;00m \u001B[38;5;28;01mNone\u001B[39;00m \u001B[38;5;129;01mand\u001B[39;00m parse_float \u001B[38;5;129;01mis\u001B[39;00m \u001B[38;5;28;01mNone\u001B[39;00m \u001B[38;5;129;01mand\u001B[39;00m\n\u001B[32m    345\u001B[39m         parse_constant \u001B[38;5;129;01mis\u001B[39;00m \u001B[38;5;28;01mNone\u001B[39;00m \u001B[38;5;129;01mand\u001B[39;00m object_pairs_hook \u001B[38;5;129;01mis\u001B[39;00m \u001B[38;5;28;01mNone\u001B[39;00m \u001B[38;5;129;01mand\u001B[39;00m \u001B[38;5;129;01mnot\u001B[39;00m kw):\n\u001B[32m--> \u001B[39m\u001B[32m346\u001B[39m     \u001B[38;5;28;01mreturn\u001B[39;00m \u001B[43m_default_decoder\u001B[49m\u001B[43m.\u001B[49m\u001B[43mdecode\u001B[49m\u001B[43m(\u001B[49m\u001B[43ms\u001B[49m\u001B[43m)\u001B[49m\n\u001B[32m    347\u001B[39m \u001B[38;5;28;01mif\u001B[39;00m \u001B[38;5;28mcls\u001B[39m \u001B[38;5;129;01mis\u001B[39;00m \u001B[38;5;28;01mNone\u001B[39;00m:\n",
      "\u001B[36mFile \u001B[39m\u001B[32mD:\\Programmes\\Anaconda\\envs\\AlgoTrading\\Lib\\json\\decoder.py:338\u001B[39m, in \u001B[36mJSONDecoder.decode\u001B[39m\u001B[34m(self, s, _w)\u001B[39m\n\u001B[32m    334\u001B[39m \u001B[38;5;250m\u001B[39m\u001B[33;03m\"\"\"Return the Python representation of ``s`` (a ``str`` instance\u001B[39;00m\n\u001B[32m    335\u001B[39m \u001B[33;03mcontaining a JSON document).\u001B[39;00m\n\u001B[32m    336\u001B[39m \n\u001B[32m    337\u001B[39m \u001B[33;03m\"\"\"\u001B[39;00m\n\u001B[32m--> \u001B[39m\u001B[32m338\u001B[39m obj, end = \u001B[38;5;28;43mself\u001B[39;49m\u001B[43m.\u001B[49m\u001B[43mraw_decode\u001B[49m\u001B[43m(\u001B[49m\u001B[43ms\u001B[49m\u001B[43m,\u001B[49m\u001B[43m \u001B[49m\u001B[43midx\u001B[49m\u001B[43m=\u001B[49m\u001B[43m_w\u001B[49m\u001B[43m(\u001B[49m\u001B[43ms\u001B[49m\u001B[43m,\u001B[49m\u001B[43m \u001B[49m\u001B[32;43m0\u001B[39;49m\u001B[43m)\u001B[49m\u001B[43m.\u001B[49m\u001B[43mend\u001B[49m\u001B[43m(\u001B[49m\u001B[43m)\u001B[49m\u001B[43m)\u001B[49m\n\u001B[32m    339\u001B[39m end = _w(s, end).end()\n",
      "\u001B[36mFile \u001B[39m\u001B[32mD:\\Programmes\\Anaconda\\envs\\AlgoTrading\\Lib\\json\\decoder.py:356\u001B[39m, in \u001B[36mJSONDecoder.raw_decode\u001B[39m\u001B[34m(self, s, idx)\u001B[39m\n\u001B[32m    355\u001B[39m \u001B[38;5;28;01mexcept\u001B[39;00m \u001B[38;5;167;01mStopIteration\u001B[39;00m \u001B[38;5;28;01mas\u001B[39;00m err:\n\u001B[32m--> \u001B[39m\u001B[32m356\u001B[39m     \u001B[38;5;28;01mraise\u001B[39;00m JSONDecodeError(\u001B[33m\"\u001B[39m\u001B[33mExpecting value\u001B[39m\u001B[33m\"\u001B[39m, s, err.value) \u001B[38;5;28;01mfrom\u001B[39;00m\u001B[38;5;250m \u001B[39m\u001B[38;5;28;01mNone\u001B[39;00m\n\u001B[32m    357\u001B[39m \u001B[38;5;28;01mreturn\u001B[39;00m obj, end\n",
      "\u001B[31mJSONDecodeError\u001B[39m: Expecting value: line 1 column 1 (char 0)",
      "\nDuring handling of the above exception, another exception occurred:\n",
      "\u001B[31mJSONDecodeError\u001B[39m                           Traceback (most recent call last)",
      "\u001B[36mFile \u001B[39m\u001B[32mD:\\Programmes\\Anaconda\\envs\\AlgoTrading\\Lib\\site-packages\\quandl\\connection.py:84\u001B[39m, in \u001B[36mConnection.parse\u001B[39m\u001B[34m(cls, response)\u001B[39m\n\u001B[32m     83\u001B[39m \u001B[38;5;28;01mtry\u001B[39;00m:\n\u001B[32m---> \u001B[39m\u001B[32m84\u001B[39m     \u001B[38;5;28;01mreturn\u001B[39;00m \u001B[43mresponse\u001B[49m\u001B[43m.\u001B[49m\u001B[43mjson\u001B[49m\u001B[43m(\u001B[49m\u001B[43m)\u001B[49m\n\u001B[32m     85\u001B[39m \u001B[38;5;28;01mexcept\u001B[39;00m \u001B[38;5;167;01mValueError\u001B[39;00m:\n",
      "\u001B[36mFile \u001B[39m\u001B[32m~\\AppData\\Roaming\\Python\\Python312\\site-packages\\requests\\models.py:978\u001B[39m, in \u001B[36mResponse.json\u001B[39m\u001B[34m(self, **kwargs)\u001B[39m\n\u001B[32m    975\u001B[39m \u001B[38;5;28;01mexcept\u001B[39;00m JSONDecodeError \u001B[38;5;28;01mas\u001B[39;00m e:\n\u001B[32m    976\u001B[39m     \u001B[38;5;66;03m# Catch JSON-related errors and raise as requests.JSONDecodeError\u001B[39;00m\n\u001B[32m    977\u001B[39m     \u001B[38;5;66;03m# This aliases json.JSONDecodeError and simplejson.JSONDecodeError\u001B[39;00m\n\u001B[32m--> \u001B[39m\u001B[32m978\u001B[39m     \u001B[38;5;28;01mraise\u001B[39;00m RequestsJSONDecodeError(e.msg, e.doc, e.pos)\n",
      "\u001B[31mJSONDecodeError\u001B[39m: Expecting value: line 1 column 1 (char 0)",
      "\nDuring handling of the above exception, another exception occurred:\n",
      "\u001B[31mQuandlError\u001B[39m                               Traceback (most recent call last)",
      "\u001B[36mCell\u001B[39m\u001B[36m \u001B[39m\u001B[32mIn[33]\u001B[39m\u001B[32m, line 1\u001B[39m\n\u001B[32m----> \u001B[39m\u001B[32m1\u001B[39m data = \u001B[43mq\u001B[49m\u001B[43m.\u001B[49m\u001B[43mget\u001B[49m\u001B[43m(\u001B[49m\u001B[33;43m'\u001B[39;49m\u001B[33;43mFSE/SAP_X\u001B[39;49m\u001B[33;43m'\u001B[39;49m\u001B[43m,\u001B[49m\u001B[43m \u001B[49m\u001B[43mstart_date\u001B[49m\u001B[43m=\u001B[49m\u001B[33;43m'\u001B[39;49m\u001B[33;43m2018-1-1\u001B[39;49m\u001B[33;43m'\u001B[39;49m\u001B[43m,\u001B[49m\n\u001B[32m      2\u001B[39m \u001B[43m             \u001B[49m\u001B[43mend_date\u001B[49m\u001B[43m=\u001B[49m\u001B[33;43m'\u001B[39;49m\u001B[33;43m2023-10-01\u001B[39;49m\u001B[33;43m'\u001B[39;49m\u001B[43m,\u001B[49m\n\u001B[32m      3\u001B[39m \u001B[43m             \u001B[49m\u001B[43mapi_key\u001B[49m\u001B[43m=\u001B[49m\u001B[43mconfig\u001B[49m\u001B[43m[\u001B[49m\u001B[33;43m'\u001B[39;49m\u001B[33;43mquandl\u001B[39;49m\u001B[33;43m'\u001B[39;49m\u001B[43m]\u001B[49m\u001B[43m[\u001B[49m\u001B[33;43m'\u001B[39;49m\u001B[33;43mapi_key\u001B[39;49m\u001B[33;43m'\u001B[39;49m\u001B[43m]\u001B[49m\u001B[43m)\u001B[49m\n",
      "\u001B[36mFile \u001B[39m\u001B[32mD:\\Programmes\\Anaconda\\envs\\AlgoTrading\\Lib\\site-packages\\quandl\\get.py:48\u001B[39m, in \u001B[36mget\u001B[39m\u001B[34m(dataset, **kwargs)\u001B[39m\n\u001B[32m     46\u001B[39m     \u001B[38;5;28;01mif\u001B[39;00m dataset_args[\u001B[33m'\u001B[39m\u001B[33mcolumn_index\u001B[39m\u001B[33m'\u001B[39m] \u001B[38;5;129;01mis\u001B[39;00m \u001B[38;5;129;01mnot\u001B[39;00m \u001B[38;5;28;01mNone\u001B[39;00m:\n\u001B[32m     47\u001B[39m         kwargs.update({\u001B[33m'\u001B[39m\u001B[33mcolumn_index\u001B[39m\u001B[33m'\u001B[39m: dataset_args[\u001B[33m'\u001B[39m\u001B[33mcolumn_index\u001B[39m\u001B[33m'\u001B[39m]})\n\u001B[32m---> \u001B[39m\u001B[32m48\u001B[39m     data = \u001B[43mDataset\u001B[49m\u001B[43m(\u001B[49m\u001B[43mdataset_args\u001B[49m\u001B[43m[\u001B[49m\u001B[33;43m'\u001B[39;49m\u001B[33;43mcode\u001B[39;49m\u001B[33;43m'\u001B[39;49m\u001B[43m]\u001B[49m\u001B[43m)\u001B[49m\u001B[43m.\u001B[49m\u001B[43mdata\u001B[49m\u001B[43m(\u001B[49m\u001B[43mparams\u001B[49m\u001B[43m=\u001B[49m\u001B[43mkwargs\u001B[49m\u001B[43m,\u001B[49m\u001B[43m \u001B[49m\u001B[43mhandle_column_not_found\u001B[49m\u001B[43m=\u001B[49m\u001B[38;5;28;43;01mTrue\u001B[39;49;00m\u001B[43m)\u001B[49m\n\u001B[32m     49\u001B[39m \u001B[38;5;66;03m# Array\u001B[39;00m\n\u001B[32m     50\u001B[39m \u001B[38;5;28;01melif\u001B[39;00m \u001B[38;5;28misinstance\u001B[39m(dataset, \u001B[38;5;28mlist\u001B[39m):\n",
      "\u001B[36mFile \u001B[39m\u001B[32mD:\\Programmes\\Anaconda\\envs\\AlgoTrading\\Lib\\site-packages\\quandl\\model\\dataset.py:47\u001B[39m, in \u001B[36mDataset.data\u001B[39m\u001B[34m(self, **options)\u001B[39m\n\u001B[32m     45\u001B[39m updated_options = Util.merge_options(\u001B[33m'\u001B[39m\u001B[33mparams\u001B[39m\u001B[33m'\u001B[39m, params, **options)\n\u001B[32m     46\u001B[39m \u001B[38;5;28;01mtry\u001B[39;00m:\n\u001B[32m---> \u001B[39m\u001B[32m47\u001B[39m     \u001B[38;5;28;01mreturn\u001B[39;00m \u001B[43mData\u001B[49m\u001B[43m.\u001B[49m\u001B[43mall\u001B[49m\u001B[43m(\u001B[49m\u001B[43m*\u001B[49m\u001B[43m*\u001B[49m\u001B[43mupdated_options\u001B[49m\u001B[43m)\u001B[49m\n\u001B[32m     48\u001B[39m \u001B[38;5;28;01mexcept\u001B[39;00m NotFoundError:\n\u001B[32m     49\u001B[39m     \u001B[38;5;28;01mif\u001B[39;00m handle_not_found_error:\n",
      "\u001B[36mFile \u001B[39m\u001B[32mD:\\Programmes\\Anaconda\\envs\\AlgoTrading\\Lib\\site-packages\\quandl\\operations\\list.py:15\u001B[39m, in \u001B[36mListOperation.all\u001B[39m\u001B[34m(cls, **options)\u001B[39m\n\u001B[32m     13\u001B[39m     options[\u001B[33m'\u001B[39m\u001B[33mparams\u001B[39m\u001B[33m'\u001B[39m] = {}\n\u001B[32m     14\u001B[39m path = Util.constructed_path(\u001B[38;5;28mcls\u001B[39m.list_path(), options[\u001B[33m'\u001B[39m\u001B[33mparams\u001B[39m\u001B[33m'\u001B[39m])\n\u001B[32m---> \u001B[39m\u001B[32m15\u001B[39m r = \u001B[43mConnection\u001B[49m\u001B[43m.\u001B[49m\u001B[43mrequest\u001B[49m\u001B[43m(\u001B[49m\u001B[33;43m'\u001B[39;49m\u001B[33;43mget\u001B[39;49m\u001B[33;43m'\u001B[39;49m\u001B[43m,\u001B[49m\u001B[43m \u001B[49m\u001B[43mpath\u001B[49m\u001B[43m,\u001B[49m\u001B[43m \u001B[49m\u001B[43m*\u001B[49m\u001B[43m*\u001B[49m\u001B[43moptions\u001B[49m\u001B[43m)\u001B[49m\n\u001B[32m     16\u001B[39m response_data = r.json()\n\u001B[32m     17\u001B[39m Util.convert_to_dates(response_data)\n",
      "\u001B[36mFile \u001B[39m\u001B[32mD:\\Programmes\\Anaconda\\envs\\AlgoTrading\\Lib\\site-packages\\quandl\\connection.py:38\u001B[39m, in \u001B[36mConnection.request\u001B[39m\u001B[34m(cls, http_verb, url, **options)\u001B[39m\n\u001B[32m     34\u001B[39m options[\u001B[33m'\u001B[39m\u001B[33mheaders\u001B[39m\u001B[33m'\u001B[39m] = headers\n\u001B[32m     36\u001B[39m abs_url = \u001B[33m'\u001B[39m\u001B[38;5;132;01m%s\u001B[39;00m\u001B[33m/\u001B[39m\u001B[38;5;132;01m%s\u001B[39;00m\u001B[33m'\u001B[39m % (ApiConfig.api_base, url)\n\u001B[32m---> \u001B[39m\u001B[32m38\u001B[39m \u001B[38;5;28;01mreturn\u001B[39;00m \u001B[38;5;28;43mcls\u001B[39;49m\u001B[43m.\u001B[49m\u001B[43mexecute_request\u001B[49m\u001B[43m(\u001B[49m\u001B[43mhttp_verb\u001B[49m\u001B[43m,\u001B[49m\u001B[43m \u001B[49m\u001B[43mabs_url\u001B[49m\u001B[43m,\u001B[49m\u001B[43m \u001B[49m\u001B[43m*\u001B[49m\u001B[43m*\u001B[49m\u001B[43moptions\u001B[49m\u001B[43m)\u001B[49m\n",
      "\u001B[36mFile \u001B[39m\u001B[32mD:\\Programmes\\Anaconda\\envs\\AlgoTrading\\Lib\\site-packages\\quandl\\connection.py:50\u001B[39m, in \u001B[36mConnection.execute_request\u001B[39m\u001B[34m(cls, http_verb, url, **options)\u001B[39m\n\u001B[32m     45\u001B[39m response = session.request(method=http_verb,\n\u001B[32m     46\u001B[39m                            url=url,\n\u001B[32m     47\u001B[39m                            verify=ApiConfig.verify_ssl,\n\u001B[32m     48\u001B[39m                            **options)\n\u001B[32m     49\u001B[39m \u001B[38;5;28;01mif\u001B[39;00m response.status_code < \u001B[32m200\u001B[39m \u001B[38;5;129;01mor\u001B[39;00m response.status_code >= \u001B[32m300\u001B[39m:\n\u001B[32m---> \u001B[39m\u001B[32m50\u001B[39m     \u001B[38;5;28;43mcls\u001B[39;49m\u001B[43m.\u001B[49m\u001B[43mhandle_api_error\u001B[49m\u001B[43m(\u001B[49m\u001B[43mresponse\u001B[49m\u001B[43m)\u001B[49m\n\u001B[32m     51\u001B[39m \u001B[38;5;28;01melse\u001B[39;00m:\n\u001B[32m     52\u001B[39m     \u001B[38;5;28;01mreturn\u001B[39;00m response\n",
      "\u001B[36mFile \u001B[39m\u001B[32mD:\\Programmes\\Anaconda\\envs\\AlgoTrading\\Lib\\site-packages\\quandl\\connection.py:90\u001B[39m, in \u001B[36mConnection.handle_api_error\u001B[39m\u001B[34m(cls, resp)\u001B[39m\n\u001B[32m     88\u001B[39m \u001B[38;5;129m@classmethod\u001B[39m\n\u001B[32m     89\u001B[39m \u001B[38;5;28;01mdef\u001B[39;00m\u001B[38;5;250m \u001B[39m\u001B[34mhandle_api_error\u001B[39m(\u001B[38;5;28mcls\u001B[39m, resp):\n\u001B[32m---> \u001B[39m\u001B[32m90\u001B[39m     error_body = \u001B[38;5;28;43mcls\u001B[39;49m\u001B[43m.\u001B[49m\u001B[43mparse\u001B[49m\u001B[43m(\u001B[49m\u001B[43mresp\u001B[49m\u001B[43m)\u001B[49m\n\u001B[32m     92\u001B[39m     \u001B[38;5;66;03m# if our app does not form a proper quandl_error response\u001B[39;00m\n\u001B[32m     93\u001B[39m     \u001B[38;5;66;03m# throw generic error\u001B[39;00m\n\u001B[32m     94\u001B[39m     \u001B[38;5;28;01mif\u001B[39;00m \u001B[33m'\u001B[39m\u001B[33mquandl_error\u001B[39m\u001B[33m'\u001B[39m \u001B[38;5;129;01mnot\u001B[39;00m \u001B[38;5;129;01min\u001B[39;00m error_body:\n",
      "\u001B[36mFile \u001B[39m\u001B[32mD:\\Programmes\\Anaconda\\envs\\AlgoTrading\\Lib\\site-packages\\quandl\\connection.py:86\u001B[39m, in \u001B[36mConnection.parse\u001B[39m\u001B[34m(cls, response)\u001B[39m\n\u001B[32m     84\u001B[39m     \u001B[38;5;28;01mreturn\u001B[39;00m response.json()\n\u001B[32m     85\u001B[39m \u001B[38;5;28;01mexcept\u001B[39;00m \u001B[38;5;167;01mValueError\u001B[39;00m:\n\u001B[32m---> \u001B[39m\u001B[32m86\u001B[39m     \u001B[38;5;28;01mraise\u001B[39;00m QuandlError(http_status=response.status_code, http_body=response.text)\n",
      "\u001B[31mQuandlError\u001B[39m: (Status 403) Something went wrong. Please try again. If you continue to have problems, please contact us at connect@quandl.com."
     ]
    }
   ],
   "execution_count": 33
  },
  {
   "cell_type": "code",
   "execution_count": 30,
   "metadata": {},
   "outputs": [
    {
     "name": "stdout",
     "output_type": "stream",
     "text": [
      "<class 'pandas.core.frame.DataFrame'>\n",
      "DatetimeIndex: 730 entries, 2018-01-02 to 2020-12-01\n",
      "Data columns (total 10 columns):\n",
      " #   Column                 Non-Null Count  Dtype  \n",
      "---  ------                 --------------  -----  \n",
      " 0   Open                   408 non-null    float64\n",
      " 1   High                   730 non-null    float64\n",
      " 2   Low                    730 non-null    float64\n",
      " 3   Close                  730 non-null    float64\n",
      " 4   Change                 0 non-null      object \n",
      " 5   Traded Volume          684 non-null    float64\n",
      " 6   Turnover               684 non-null    float64\n",
      " 7   Last Price of the Day  0 non-null      object \n",
      " 8   Daily Traded Units     0 non-null      object \n",
      " 9   Daily Turnover         0 non-null      object \n",
      "dtypes: float64(6), object(4)\n",
      "memory usage: 62.7+ KB\n"
     ]
    }
   ],
   "source": [
    "data.info()"
   ]
  },
  {
   "cell_type": "code",
   "execution_count": 31,
   "metadata": {},
   "outputs": [],
   "source": [
    "q.ApiConfig.api_key = config['quandl']['api_key']"
   ]
  },
  {
   "cell_type": "code",
   "execution_count": 32,
   "metadata": {},
   "outputs": [],
   "source": [
    "# vol = q.get('VOL/MSFT')"
   ]
  },
  {
   "cell_type": "code",
   "execution_count": 33,
   "metadata": {},
   "outputs": [],
   "source": [
    "# vol.iloc[:, :10].info()"
   ]
  },
  {
   "cell_type": "code",
   "execution_count": 34,
   "metadata": {},
   "outputs": [],
   "source": [
    "# vol[['IvMean30', 'IvMean60', 'IvMean90']].tail()"
   ]
  },
  {
   "cell_type": "markdown",
   "metadata": {},
   "source": [
    "## Refinitiv Eikon Data API"
   ]
  },
  {
   "cell_type": "markdown",
   "metadata": {},
   "source": [
    "`pip install eikon` &mdash; Requires a paid subscription."
   ]
  },
  {
   "cell_type": "code",
   "execution_count": 35,
   "metadata": {},
   "outputs": [],
   "source": [
    "import eikon as ek"
   ]
  },
  {
   "cell_type": "code",
   "execution_count": 36,
   "metadata": {},
   "outputs": [],
   "source": [
    "ek.set_app_key(config['eikon']['app_key'])"
   ]
  },
  {
   "cell_type": "code",
   "execution_count": 37,
   "metadata": {},
   "outputs": [
    {
     "name": "stdout",
     "output_type": "stream",
     "text": [
      "Help on package eikon:\n",
      "\n",
      "NAME\n",
      "    eikon - # coding: utf-8\n",
      "\n",
      "PACKAGE CONTENTS\n",
      "    Profile\n",
      "    data_grid\n",
      "    eikonError\n",
      "    json_requests\n",
      "    news_request\n",
      "    streaming_session (package)\n",
      "    symbology\n",
      "    time_series\n",
      "    tools\n",
      "    vendor (package)\n",
      "\n",
      "SUBMODULES\n",
      "    cache\n",
      "    desktop_session\n",
      "    istream_callback\n",
      "    itemstream\n",
      "    session\n",
      "    stream\n",
      "    stream_connection\n",
      "    streamingprice\n",
      "    streamingprice_callback\n",
      "    streamingprices\n",
      "\n",
      "VERSION\n",
      "    1.1.18\n",
      "\n",
      "FILE\n",
      "    /Users/yves/Python/envs/py4at/lib/python3.10/site-packages/eikon/__init__.py\n",
      "\n",
      "\n"
     ]
    }
   ],
   "source": [
    "help(ek)"
   ]
  },
  {
   "cell_type": "markdown",
   "metadata": {},
   "source": [
    "### Retrieving Historical Structured Data"
   ]
  },
  {
   "cell_type": "code",
   "execution_count": 38,
   "metadata": {},
   "outputs": [],
   "source": [
    "import warnings; warnings.simplefilter('ignore')"
   ]
  },
  {
   "cell_type": "code",
   "execution_count": 39,
   "metadata": {},
   "outputs": [],
   "source": [
    "symbols = ['AAPL.O', 'MSFT.O', 'GOOG.O']"
   ]
  },
  {
   "cell_type": "code",
   "execution_count": 40,
   "metadata": {},
   "outputs": [],
   "source": [
    "data = ek.get_timeseries(symbols,\n",
    "                         start_date='2023-01-01',\n",
    "                         end_date='2023-05-01',\n",
    "                         interval='daily',\n",
    "                         fields=['*'])"
   ]
  },
  {
   "cell_type": "code",
   "execution_count": 41,
   "metadata": {},
   "outputs": [
    {
     "data": {
      "text/plain": [
       "MultiIndex([('AAPL.O',   'HIGH'),\n",
       "            ('AAPL.O',  'CLOSE'),\n",
       "            ('AAPL.O',    'LOW'),\n",
       "            ('AAPL.O',   'OPEN'),\n",
       "            ('AAPL.O',  'COUNT'),\n",
       "            ('AAPL.O', 'VOLUME'),\n",
       "            ('MSFT.O',   'HIGH'),\n",
       "            ('MSFT.O',  'CLOSE'),\n",
       "            ('MSFT.O',    'LOW'),\n",
       "            ('MSFT.O',   'OPEN'),\n",
       "            ('MSFT.O',  'COUNT'),\n",
       "            ('MSFT.O', 'VOLUME'),\n",
       "            ('GOOG.O',   'HIGH'),\n",
       "            ('GOOG.O',  'CLOSE'),\n",
       "            ('GOOG.O',    'LOW'),\n",
       "            ('GOOG.O',   'OPEN'),\n",
       "            ('GOOG.O',  'COUNT'),\n",
       "            ('GOOG.O', 'VOLUME')],\n",
       "           names=['Security', 'Field'])"
      ]
     },
     "execution_count": 41,
     "metadata": {},
     "output_type": "execute_result"
    }
   ],
   "source": [
    "data.keys()"
   ]
  },
  {
   "cell_type": "code",
   "execution_count": 42,
   "metadata": {},
   "outputs": [
    {
     "data": {
      "text/plain": [
       "pandas.core.frame.DataFrame"
      ]
     },
     "execution_count": 42,
     "metadata": {},
     "output_type": "execute_result"
    }
   ],
   "source": [
    "type(data['AAPL.O'])"
   ]
  },
  {
   "cell_type": "code",
   "execution_count": 43,
   "metadata": {},
   "outputs": [
    {
     "name": "stdout",
     "output_type": "stream",
     "text": [
      "<class 'pandas.core.frame.DataFrame'>\n",
      "DatetimeIndex: 82 entries, 2023-01-03 to 2023-05-01\n",
      "Data columns (total 6 columns):\n",
      " #   Column  Non-Null Count  Dtype  \n",
      "---  ------  --------------  -----  \n",
      " 0   HIGH    82 non-null     Float64\n",
      " 1   CLOSE   82 non-null     Float64\n",
      " 2   LOW     82 non-null     Float64\n",
      " 3   OPEN    82 non-null     Float64\n",
      " 4   COUNT   82 non-null     Int64  \n",
      " 5   VOLUME  82 non-null     Int64  \n",
      "dtypes: Float64(4), Int64(2)\n",
      "memory usage: 5.0 KB\n"
     ]
    }
   ],
   "source": [
    "data['AAPL.O'].info()"
   ]
  },
  {
   "cell_type": "code",
   "execution_count": 44,
   "metadata": {},
   "outputs": [
    {
     "data": {
      "text/html": [
       "<div>\n",
       "<style scoped>\n",
       "    .dataframe tbody tr th:only-of-type {\n",
       "        vertical-align: middle;\n",
       "    }\n",
       "\n",
       "    .dataframe tbody tr th {\n",
       "        vertical-align: top;\n",
       "    }\n",
       "\n",
       "    .dataframe thead th {\n",
       "        text-align: right;\n",
       "    }\n",
       "</style>\n",
       "<table border=\"1\" class=\"dataframe\">\n",
       "  <thead>\n",
       "    <tr style=\"text-align: right;\">\n",
       "      <th>Field</th>\n",
       "      <th>HIGH</th>\n",
       "      <th>CLOSE</th>\n",
       "      <th>LOW</th>\n",
       "      <th>OPEN</th>\n",
       "      <th>COUNT</th>\n",
       "      <th>VOLUME</th>\n",
       "    </tr>\n",
       "    <tr>\n",
       "      <th>Date</th>\n",
       "      <th></th>\n",
       "      <th></th>\n",
       "      <th></th>\n",
       "      <th></th>\n",
       "      <th></th>\n",
       "      <th></th>\n",
       "    </tr>\n",
       "  </thead>\n",
       "  <tbody>\n",
       "    <tr>\n",
       "      <th>2023-04-25</th>\n",
       "      <td>166.305</td>\n",
       "      <td>163.77</td>\n",
       "      <td>163.73</td>\n",
       "      <td>165.19</td>\n",
       "      <td>501551</td>\n",
       "      <td>48714063</td>\n",
       "    </tr>\n",
       "    <tr>\n",
       "      <th>2023-04-26</th>\n",
       "      <td>165.28</td>\n",
       "      <td>163.76</td>\n",
       "      <td>162.8</td>\n",
       "      <td>163.055</td>\n",
       "      <td>493405</td>\n",
       "      <td>45498796</td>\n",
       "    </tr>\n",
       "    <tr>\n",
       "      <th>2023-04-27</th>\n",
       "      <td>168.56</td>\n",
       "      <td>168.41</td>\n",
       "      <td>165.19</td>\n",
       "      <td>165.19</td>\n",
       "      <td>575982</td>\n",
       "      <td>64902329</td>\n",
       "    </tr>\n",
       "    <tr>\n",
       "      <th>2023-04-28</th>\n",
       "      <td>169.85</td>\n",
       "      <td>169.68</td>\n",
       "      <td>167.8801</td>\n",
       "      <td>168.49</td>\n",
       "      <td>527763</td>\n",
       "      <td>55275851</td>\n",
       "    </tr>\n",
       "    <tr>\n",
       "      <th>2023-05-01</th>\n",
       "      <td>170.45</td>\n",
       "      <td>169.59</td>\n",
       "      <td>168.64</td>\n",
       "      <td>169.28</td>\n",
       "      <td>540746</td>\n",
       "      <td>52472936</td>\n",
       "    </tr>\n",
       "  </tbody>\n",
       "</table>\n",
       "</div>"
      ],
      "text/plain": [
       "Field          HIGH   CLOSE       LOW     OPEN   COUNT    VOLUME\n",
       "Date                                                            \n",
       "2023-04-25  166.305  163.77    163.73   165.19  501551  48714063\n",
       "2023-04-26   165.28  163.76     162.8  163.055  493405  45498796\n",
       "2023-04-27   168.56  168.41    165.19   165.19  575982  64902329\n",
       "2023-04-28   169.85  169.68  167.8801   168.49  527763  55275851\n",
       "2023-05-01   170.45  169.59    168.64   169.28  540746  52472936"
      ]
     },
     "execution_count": 44,
     "metadata": {},
     "output_type": "execute_result"
    }
   ],
   "source": [
    "data['AAPL.O'].tail()"
   ]
  },
  {
   "cell_type": "code",
   "execution_count": 45,
   "metadata": {},
   "outputs": [
    {
     "name": "stdout",
     "output_type": "stream",
     "text": [
      "CPU times: user 50.5 ms, sys: 4.59 ms, total: 55.1 ms\n",
      "Wall time: 2.58 s\n"
     ]
    }
   ],
   "source": [
    "%%time\n",
    "data = ek.get_timeseries(symbols,\n",
    "                         start_date='2023-05-05',\n",
    "                         end_date='2023-05-06',\n",
    "                         interval='minute',\n",
    "                         fields='*')"
   ]
  },
  {
   "cell_type": "code",
   "execution_count": 46,
   "metadata": {},
   "outputs": [
    {
     "name": "stdout",
     "output_type": "stream",
     "text": [
      "Field                 HIGH    LOW   OPEN  CLOSE  COUNT  VOLUME\n",
      "Date                                                          \n",
      "2023-05-05 16:00:00  105.3  105.2  105.2  105.3    356   30083\n",
      "2023-05-05 16:01:00  105.4  105.3  105.3  105.3    391   27480\n",
      "2023-05-05 16:02:00  105.4  105.3  105.3  105.4    532   40068\n",
      "2023-05-05 16:03:00  105.4  105.3  105.4  105.3    403   54467\n",
      "2023-05-05 16:04:00  105.3  105.3  105.3  105.3    205   17119\n"
     ]
    }
   ],
   "source": [
    "print(data['GOOG.O'].loc['2023-05-05 16:00:00':\n",
    "                         '2023-05-05 16:04:00'].round(1))"
   ]
  },
  {
   "cell_type": "code",
   "execution_count": 47,
   "metadata": {},
   "outputs": [
    {
     "name": "stdout",
     "output_type": "stream",
     "text": [
      "\n",
      "AAPL.O\n",
      " Field                 HIGH    LOW   OPEN  CLOSE  COUNT  VOLUME\n",
      "Date                                                          \n",
      "2023-05-05 19:01:00  174.2  174.1  174.2  174.1   1038  106830\n",
      "2023-05-05 19:02:00  174.1  174.0  174.1  174.0   1516  164663\n",
      "2023-05-05 19:03:00  174.0  173.9  174.0  174.0   1261  124852\n",
      "2023-05-05 19:04:00  174.1  174.0  174.0  174.0   1014  107868\n",
      "2023-05-05 19:05:00  174.1  174.0  174.0  174.1    958   76527\n",
      "\n",
      "MSFT.O\n",
      " Field                 HIGH    LOW   OPEN  CLOSE  COUNT  VOLUME\n",
      "Date                                                          \n",
      "2023-05-05 19:01:00  311.6  311.4  311.6  311.4   1047   68248\n",
      "2023-05-05 19:02:00  311.5  311.2  311.4  311.3    812   62585\n",
      "2023-05-05 19:03:00  311.5  311.2  311.2  311.3    750   45131\n",
      "2023-05-05 19:04:00  311.5  311.2  311.3  311.4    764   63286\n",
      "2023-05-05 19:05:00  311.5  311.3  311.4  311.5    819   68731\n",
      "\n",
      "GOOG.O\n",
      " Field                 HIGH    LOW   OPEN  CLOSE  COUNT  VOLUME\n",
      "Date                                                          \n",
      "2023-05-05 19:01:00  106.4  106.2  106.3  106.3    385   32904\n",
      "2023-05-05 19:02:00  106.4  106.2  106.3  106.3    329   24235\n",
      "2023-05-05 19:03:00  106.4  106.3  106.3  106.3    447   29495\n",
      "2023-05-05 19:04:00  106.3  106.3  106.3  106.3    349   29040\n",
      "2023-05-05 19:05:00  106.3  106.3  106.3  106.3    322   22336\n"
     ]
    }
   ],
   "source": [
    "for sym in symbols:\n",
    "    print('\\n' + sym + '\\n', data[sym].iloc[-300:-295].round(1))"
   ]
  },
  {
   "cell_type": "code",
   "execution_count": 48,
   "metadata": {},
   "outputs": [
    {
     "name": "stdout",
     "output_type": "stream",
     "text": [
      "CPU times: user 106 ms, sys: 6.51 ms, total: 113 ms\n",
      "Wall time: 2.33 s\n"
     ]
    }
   ],
   "source": [
    "%%time\n",
    "data = ek.get_timeseries(symbols[0],\n",
    "                         start_date='2023-09-05 15:00:00',\n",
    "                         end_date='2023-09-05 15:30:00',\n",
    "                         interval='tick',\n",
    "                         fields=['*'])"
   ]
  },
  {
   "cell_type": "code",
   "execution_count": 49,
   "metadata": {},
   "outputs": [
    {
     "name": "stdout",
     "output_type": "stream",
     "text": [
      "<class 'pandas.core.frame.DataFrame'>\n",
      "DatetimeIndex: 34370 entries, 2023-09-05 15:00:00.019000 to 2023-09-05 15:29:59.842000\n",
      "Data columns (total 2 columns):\n",
      " #   Column  Non-Null Count  Dtype  \n",
      "---  ------  --------------  -----  \n",
      " 0   VALUE   34302 non-null  Float64\n",
      " 1   VOLUME  34370 non-null  Int64  \n",
      "dtypes: Float64(1), Int64(1)\n",
      "memory usage: 872.7 KB\n"
     ]
    }
   ],
   "source": [
    "data.info()"
   ]
  },
  {
   "cell_type": "code",
   "execution_count": 50,
   "metadata": {},
   "outputs": [
    {
     "data": {
      "text/html": [
       "<div>\n",
       "<style scoped>\n",
       "    .dataframe tbody tr th:only-of-type {\n",
       "        vertical-align: middle;\n",
       "    }\n",
       "\n",
       "    .dataframe tbody tr th {\n",
       "        vertical-align: top;\n",
       "    }\n",
       "\n",
       "    .dataframe thead th {\n",
       "        text-align: right;\n",
       "    }\n",
       "</style>\n",
       "<table border=\"1\" class=\"dataframe\">\n",
       "  <thead>\n",
       "    <tr style=\"text-align: right;\">\n",
       "      <th>AAPL.O</th>\n",
       "      <th>VALUE</th>\n",
       "      <th>VOLUME</th>\n",
       "    </tr>\n",
       "    <tr>\n",
       "      <th>Date</th>\n",
       "      <th></th>\n",
       "      <th></th>\n",
       "    </tr>\n",
       "  </thead>\n",
       "  <tbody>\n",
       "    <tr>\n",
       "      <th>2023-09-05 15:00:00.019</th>\n",
       "      <td>189.06</td>\n",
       "      <td>100</td>\n",
       "    </tr>\n",
       "    <tr>\n",
       "      <th>2023-09-05 15:00:00.045</th>\n",
       "      <td>189.06</td>\n",
       "      <td>300</td>\n",
       "    </tr>\n",
       "    <tr>\n",
       "      <th>2023-09-05 15:00:00.048</th>\n",
       "      <td>189.07</td>\n",
       "      <td>10</td>\n",
       "    </tr>\n",
       "    <tr>\n",
       "      <th>2023-09-05 15:00:00.050</th>\n",
       "      <td>189.07</td>\n",
       "      <td>100</td>\n",
       "    </tr>\n",
       "    <tr>\n",
       "      <th>2023-09-05 15:00:00.050</th>\n",
       "      <td>189.07</td>\n",
       "      <td>1</td>\n",
       "    </tr>\n",
       "  </tbody>\n",
       "</table>\n",
       "</div>"
      ],
      "text/plain": [
       "AAPL.O                    VALUE  VOLUME\n",
       "Date                                   \n",
       "2023-09-05 15:00:00.019  189.06     100\n",
       "2023-09-05 15:00:00.045  189.06     300\n",
       "2023-09-05 15:00:00.048  189.07      10\n",
       "2023-09-05 15:00:00.050  189.07     100\n",
       "2023-09-05 15:00:00.050  189.07       1"
      ]
     },
     "execution_count": 50,
     "metadata": {},
     "output_type": "execute_result"
    }
   ],
   "source": [
    "data.head()"
   ]
  },
  {
   "cell_type": "code",
   "execution_count": 51,
   "metadata": {},
   "outputs": [],
   "source": [
    "resampled = data.resample('30s', label='right').agg(\n",
    "            {'VALUE': 'last', 'VOLUME': 'sum'}) # <6>"
   ]
  },
  {
   "cell_type": "code",
   "execution_count": 52,
   "metadata": {},
   "outputs": [
    {
     "data": {
      "text/html": [
       "<div>\n",
       "<style scoped>\n",
       "    .dataframe tbody tr th:only-of-type {\n",
       "        vertical-align: middle;\n",
       "    }\n",
       "\n",
       "    .dataframe tbody tr th {\n",
       "        vertical-align: top;\n",
       "    }\n",
       "\n",
       "    .dataframe thead th {\n",
       "        text-align: right;\n",
       "    }\n",
       "</style>\n",
       "<table border=\"1\" class=\"dataframe\">\n",
       "  <thead>\n",
       "    <tr style=\"text-align: right;\">\n",
       "      <th>AAPL.O</th>\n",
       "      <th>VALUE</th>\n",
       "      <th>VOLUME</th>\n",
       "    </tr>\n",
       "    <tr>\n",
       "      <th>Date</th>\n",
       "      <th></th>\n",
       "      <th></th>\n",
       "    </tr>\n",
       "  </thead>\n",
       "  <tbody>\n",
       "    <tr>\n",
       "      <th>2023-09-05 15:28:00</th>\n",
       "      <td>189.287</td>\n",
       "      <td>22150</td>\n",
       "    </tr>\n",
       "    <tr>\n",
       "      <th>2023-09-05 15:28:30</th>\n",
       "      <td>189.1722</td>\n",
       "      <td>36746</td>\n",
       "    </tr>\n",
       "    <tr>\n",
       "      <th>2023-09-05 15:29:00</th>\n",
       "      <td>189.1787</td>\n",
       "      <td>19980</td>\n",
       "    </tr>\n",
       "    <tr>\n",
       "      <th>2023-09-05 15:29:30</th>\n",
       "      <td>189.21</td>\n",
       "      <td>26532</td>\n",
       "    </tr>\n",
       "    <tr>\n",
       "      <th>2023-09-05 15:30:00</th>\n",
       "      <td>189.16</td>\n",
       "      <td>40326</td>\n",
       "    </tr>\n",
       "  </tbody>\n",
       "</table>\n",
       "</div>"
      ],
      "text/plain": [
       "AAPL.O                  VALUE  VOLUME\n",
       "Date                                 \n",
       "2023-09-05 15:28:00   189.287   22150\n",
       "2023-09-05 15:28:30  189.1722   36746\n",
       "2023-09-05 15:29:00  189.1787   19980\n",
       "2023-09-05 15:29:30    189.21   26532\n",
       "2023-09-05 15:30:00    189.16   40326"
      ]
     },
     "execution_count": 52,
     "metadata": {},
     "output_type": "execute_result"
    }
   ],
   "source": [
    "resampled.tail()"
   ]
  },
  {
   "cell_type": "markdown",
   "metadata": {},
   "source": [
    "### Retrieving Historical Unstructured Data"
   ]
  },
  {
   "cell_type": "code",
   "execution_count": 53,
   "metadata": {},
   "outputs": [],
   "source": [
    "headlines = ek.get_news_headlines(query='R:AAPL.O macbook',\n",
    "                                  count=5,\n",
    "                                  date_from='2023-1-1',\n",
    "                                  date_to='2023-5-1')"
   ]
  },
  {
   "cell_type": "code",
   "execution_count": 54,
   "metadata": {},
   "outputs": [
    {
     "data": {
      "text/html": [
       "<div>\n",
       "<style scoped>\n",
       "    .dataframe tbody tr th:only-of-type {\n",
       "        vertical-align: middle;\n",
       "    }\n",
       "\n",
       "    .dataframe tbody tr th {\n",
       "        vertical-align: top;\n",
       "    }\n",
       "\n",
       "    .dataframe thead th {\n",
       "        text-align: right;\n",
       "    }\n",
       "</style>\n",
       "<table border=\"1\" class=\"dataframe\">\n",
       "  <thead>\n",
       "    <tr style=\"text-align: right;\">\n",
       "      <th></th>\n",
       "      <th>versionCreated</th>\n",
       "      <th>text</th>\n",
       "      <th>storyId</th>\n",
       "      <th>sourceCode</th>\n",
       "    </tr>\n",
       "  </thead>\n",
       "  <tbody>\n",
       "    <tr>\n",
       "      <th>2023-04-20 17:32:40.760</th>\n",
       "      <td>2023-04-20 17:32:40.760000+00:00</td>\n",
       "      <td>Cook turns focus on non-iPhone products in whi...</td>\n",
       "      <td>urn:newsml:newswire.refinitiv.com:20230420:nNR...</td>\n",
       "      <td>NS:BUSSTA</td>\n",
       "    </tr>\n",
       "    <tr>\n",
       "      <th>2023-04-10 08:57:06.695</th>\n",
       "      <td>2023-04-10 08:57:06.695000+00:00</td>\n",
       "      <td>6 Apple laptops that will supercharge your pro...</td>\n",
       "      <td>urn:newsml:newswire.refinitiv.com:20230410:nNR...</td>\n",
       "      <td>NS:HINDUT</td>\n",
       "    </tr>\n",
       "    <tr>\n",
       "      <th>2023-03-30 14:01:23.897</th>\n",
       "      <td>2023-03-30 14:01:23.897000+00:00</td>\n",
       "      <td>Apple WWDC 2023: AR/VR headsets, Mac Pro &amp; new...</td>\n",
       "      <td>urn:newsml:newswire.refinitiv.com:20230330:nNR...</td>\n",
       "      <td>NS:INDIAE</td>\n",
       "    </tr>\n",
       "    <tr>\n",
       "      <th>2023-02-20 21:46:54.205</th>\n",
       "      <td>2023-02-20 21:46:54.205000+00:00</td>\n",
       "      <td>Power up the best Presidents Day laptop deals ...</td>\n",
       "      <td>urn:newsml:newswire.refinitiv.com:20230220:nNR...</td>\n",
       "      <td>NS:USADAY</td>\n",
       "    </tr>\n",
       "    <tr>\n",
       "      <th>2023-02-20 08:33:10.912</th>\n",
       "      <td>2023-02-20 08:33:10.912000+00:00</td>\n",
       "      <td>MacBook Pro M2 Pro review: Apple's best laptop...</td>\n",
       "      <td>urn:newsml:newswire.refinitiv.com:20230220:nNR...</td>\n",
       "      <td>NS:THEGRD</td>\n",
       "    </tr>\n",
       "  </tbody>\n",
       "</table>\n",
       "</div>"
      ],
      "text/plain": [
       "                                          versionCreated  \\\n",
       "2023-04-20 17:32:40.760 2023-04-20 17:32:40.760000+00:00   \n",
       "2023-04-10 08:57:06.695 2023-04-10 08:57:06.695000+00:00   \n",
       "2023-03-30 14:01:23.897 2023-03-30 14:01:23.897000+00:00   \n",
       "2023-02-20 21:46:54.205 2023-02-20 21:46:54.205000+00:00   \n",
       "2023-02-20 08:33:10.912 2023-02-20 08:33:10.912000+00:00   \n",
       "\n",
       "                                                                      text  \\\n",
       "2023-04-20 17:32:40.760  Cook turns focus on non-iPhone products in whi...   \n",
       "2023-04-10 08:57:06.695  6 Apple laptops that will supercharge your pro...   \n",
       "2023-03-30 14:01:23.897  Apple WWDC 2023: AR/VR headsets, Mac Pro & new...   \n",
       "2023-02-20 21:46:54.205  Power up the best Presidents Day laptop deals ...   \n",
       "2023-02-20 08:33:10.912  MacBook Pro M2 Pro review: Apple's best laptop...   \n",
       "\n",
       "                                                                   storyId  \\\n",
       "2023-04-20 17:32:40.760  urn:newsml:newswire.refinitiv.com:20230420:nNR...   \n",
       "2023-04-10 08:57:06.695  urn:newsml:newswire.refinitiv.com:20230410:nNR...   \n",
       "2023-03-30 14:01:23.897  urn:newsml:newswire.refinitiv.com:20230330:nNR...   \n",
       "2023-02-20 21:46:54.205  urn:newsml:newswire.refinitiv.com:20230220:nNR...   \n",
       "2023-02-20 08:33:10.912  urn:newsml:newswire.refinitiv.com:20230220:nNR...   \n",
       "\n",
       "                        sourceCode  \n",
       "2023-04-20 17:32:40.760  NS:BUSSTA  \n",
       "2023-04-10 08:57:06.695  NS:HINDUT  \n",
       "2023-03-30 14:01:23.897  NS:INDIAE  \n",
       "2023-02-20 21:46:54.205  NS:USADAY  \n",
       "2023-02-20 08:33:10.912  NS:THEGRD  "
      ]
     },
     "execution_count": 54,
     "metadata": {},
     "output_type": "execute_result"
    }
   ],
   "source": [
    "headlines"
   ]
  },
  {
   "cell_type": "code",
   "execution_count": 55,
   "metadata": {},
   "outputs": [],
   "source": [
    "story = headlines.iloc[1]"
   ]
  },
  {
   "cell_type": "code",
   "execution_count": 56,
   "metadata": {},
   "outputs": [
    {
     "data": {
      "text/plain": [
       "versionCreated                     2023-04-10 08:57:06.695000+00:00\n",
       "text              6 Apple laptops that will supercharge your pro...\n",
       "storyId           urn:newsml:newswire.refinitiv.com:20230410:nNR...\n",
       "sourceCode                                                NS:HINDUT\n",
       "Name: 2023-04-10 08:57:06.695000, dtype: object"
      ]
     },
     "execution_count": 56,
     "metadata": {},
     "output_type": "execute_result"
    }
   ],
   "source": [
    "story"
   ]
  },
  {
   "cell_type": "code",
   "execution_count": 57,
   "metadata": {},
   "outputs": [],
   "source": [
    "news_text = ek.get_news_story(story['storyId'])"
   ]
  },
  {
   "cell_type": "code",
   "execution_count": 58,
   "metadata": {},
   "outputs": [],
   "source": [
    "from IPython.display import HTML"
   ]
  },
  {
   "cell_type": "code",
   "execution_count": 59,
   "metadata": {},
   "outputs": [
    {
     "data": {
      "text/html": [
       "<div class=\"storyContent\" lang=\"en\"><style type=\"text/css\">.storyContent * {border-color:inherit !important;outline-color:inherit !important;}</style><div class=\"tr-npp-dateline\"><p>India</p></div><div class=\"tr-npp-lead\"><p>India, April 10 -- Laptops have become a necessity, and Apple laptops, in particular, are known for their premium quality, sleek design, and impressive performance.Apple has been a pioneer in the technology industry, revolutionizing the world with its innovative products. Apple laptops are no exception, and they offer some of the best features and capabilities to boost your productivity.We'll explore in more detail the best 6 Apple laptops in this article to help you be more productive.</p><p>You may choose an Apple laptop that fits your demands and budget, whether you're a student, a professional, or someone else who requires a reliable and effective laptop. So, let's dive into the list of best Apple laptops that can help you achieve your goals. So, let's dive into the list of best Apple laptops that can help you achieve your goals.</p></div><div class=\"tr-npp-body\"><p>Product list</p><p>1. Apple's 2022 MacBook Air laptop with M2 chip: 34.46 cm (13.6-inch) Liquid Retina Display, 8GB RAM, 256GB SSD Storage, Backlit Keyboard, 1080p FaceTime HD Camera</p><p>The Apple 2022 MacBook Air Laptop with an M2 chip is a high-performance laptop with many advanced features. This laptop has a 34.46 cm (13.6-inch) Liquid Retina display, providing stunning visuals with exceptional color accuracy. Moreover, the display has True Tone technology, which modifies the color temperature based on ambient lighting to make viewing more comfortable.</p><p>The MacBook Air with M2 chip is powered by the latest M2 chip, which delivers exceptional performance and speed. In addition, this laptop comes with 8GB of RAM, allowing for smooth multitasking and seamless performance. It also has 256GB of SSD storage, providing ample space to store your files and applications.</p><p>The MacBook Air with M2 chip features a backlit keyboard, making it easy to work in low-light conditions. It also features a 1080p FaceTime HD camera, making it ideal for video conferencing and virtual meetings. This laptop also works seamlessly with iPhone/iPad, allowing for easy file sharing and device connectivity.</p><p>Specifications:</p><p>2. Apple 2022 MacBook Air laptop: 34.46 cm, M2 chip (13.6-inch) Backlit Keyboard, 256GB SSD, 1080p FaceTime HD Camera, Liquid Retina Display</p><p>The Apple 2022 MacBook Air Laptop with M2 chip is a powerful machine that offers excellent performance and sleek design. It features a 34.46 cm (13.6-inch) Liquid Retina Display with True Tone technology that delivers vibrant and accurate colors. For those that want top-notch performance, the M2 chip's lightning-fast speed and responsiveness make it a great option. The 8GB RAM and 256GB SSD storage provide ample space to store your files and apps, while the backlit keyboard and 1080p FaceTime HD Camera make it perfect for video calls and working in low-light environments. It also functions flawlessly with the iPhone and iPad.</p><p>Specifications:</p><p>3. Apple 2022 MacBook Pro laptop: 33.74 cm, M2 chip (13.3-inch) Retina Display, Touch Bar, Backlit Keyboard, 8GB RAM, 256GB SSD Storage, with FaceTime HD Camera</p><p>The Apple 2022 MacBook Pro Laptop with M2 chip is a powerful and high-performance device designed for professionals and creatives. With a sleek and lightweight design, this laptop is easy to carry around and use on the go. The 33.74 cm (13.3-inch) Retina Display provides stunning visuals and the Touch Bar and Backlit Keyboard offer a seamless and convenient user experience. The FaceTime HD Camera makes video conferencing and online communication easy and clear.</p><p>The laptop is equipped with 8GB RAM and 256GB SSD Storage, ensuring smooth and efficient performance even when multitasking or running heavy applications. The Space Grey color gives the laptop a sleek and professional look.</p><p>Specifications:</p><p>4. Apple MacBook Air 2022 Laptop Powered by an M2 Chip features a 13.6-inch, 34.46-cm Liquid Retina Display, 8GB of RAM, 512GB of SSD Storage, a Backlit Keyboard, and a 1080p FaceTime HD camera</p><p>The Apple 2022 MacBook Air with M2 chip features a 34.46 cm (13.6-inch) Liquid Retina display with a resolution of 2560x1600 pixels that produces beautiful visuals. It comes with 8GB RAM and 512GB SSD storage, which provides ample space for storing large files and running applications smoothly. The backlit keyboard allows for easy typing in low-light conditions, while the 1080p FaceTime HD camera provides clear and crisp video calls.</p><p>Specifications:</p><p>5. Apple MacBook Air Laptop with M2 Processor, 2022: 34.46 cm (13.6-inch) Liquid Retina Display, 8GB RAM, 256GB SSD Storage, Backlit Keyboard, and 1080p FaceTime HD camera</p><p>The 2022 Apple MacBook Air with M2 chip boasts a stunning 34.46 cm (13.6-inch) Liquid Retina Display that has a resolution of 2560 x 1600 pixels, providing crystal clear visuals. It has 256GB of SSD storage and 8GB of RAM, making it a powerhouse that can easily handle even the most difficult jobs. The backlit keyboard helps you work comfortably even in low light conditions, while the 1080p FaceTime HD camera delivers clear video calls.</p><p>Specifications:</p><p>6. Apple 2022 MacBook Pro laptop, 33.74 cm, M2 chip (13.3-inch) Retina Display, Touch Bar, Backlit Keyboard, 8GB RAM, 512GB SSD Storage, and FaceTime HD Camera</p><p>The Apple 2022 MacBook Pro Laptop with M2 chip boasts a 33.74 cm (13.3-inch) Retina Display, 8GB RAM, and 512GB SSD Storage, making it a powerful machine for both personal and professional use. With a Touch Bar and Backlit Keyboard, users can easily navigate and work in low-light conditions. Furthermore, the FaceTime HD Camera provides high-quality video for virtual meetings and video calls. Additionally, the laptop comes with various features like Siri, Touch ID, and the latest macOS software. The Touch Bar and Backlit Keyboard provide convenience and ease of use, while the FaceTime HD Camera promises clear and high-quality video calls. With its sleek and stylish design, the Apple 2022 MacBook Pro will surely be a crowd-pleaser.</p><p>Specifications:</p><p>Three best features for consumers:</p><p>Best product from the list above:</p><p>The Apple 2022 MacBook Air Laptop with an M2 chip and 13.6 inch liquid retina display, 8GB RAM and 512GB of storage, is an exceptional product that stands out among other laptops in the market. The 13.6-inch Liquid Retina Display provides stunning visuals that are perfect for any task, whether it be work or entertainment. With 8GB of RAM and 512GB of SSD storage, this laptop can handle multitasking and large file transfers with ease. The backlit keyboard is perfect for those who work in low-light environments, ensuring that users can type efficiently and accurately. The 1080p FaceTime HD camera allows for crystal-clear video calls, making it the perfect device for remote work and online classes.</p><p>Additionally, the MacBook Air works seamlessly with other Apple devices, such as the iPad and iPhone, allowing for easy file transfers and device syncing. The M2 chip provides lightning-fast performance and energy efficiency, making it perfect for users who demand high performance without sacrificing battery life.</p><p>The MacBook Air is also incredibly lightweight and portable, making it perfect for users who are always on the go.</p><p>Best value-for-money product from the list:The Apple 2022 MacBook Air Laptop with M2 chip and 34.46 cm (13.6-inch) Liquid Retina Display, 8GB RAM, 256GB SSD Storage, Backlit Keyboard, 1080p FaceTime HD Camera is an excellent choice for those looking for a powerful yet affordable laptop. This laptop offers excellent value for the money and is jam-packed with features that are guaranteed to please. With a 34.46 cm (13.6-inch) Liquid Retina Display, you can enjoy crystal-clear visuals while you work, play games, or watch movies. The 8GB RAM ensures smooth performance even while running multiple applications simultaneously. The 256GB SSD Storage provides ample space to store your files, documents, photos, and videos.</p><p>The backlit keyboard makes typing a breeze, even in dimly lit environments. The 1080p FaceTime HD Camera ensures clear video conferencing and online classes. The MacBook Air also works seamlessly with your iPhone and iPad, making it easy to transfer files and sync data across all your Apple devices.</p><p>The M2 chip, which powers the MacBook Air, is a game-changer. It provides exceptional performance and efficiency, making the laptop faster and more responsive than ever before. Published by HT Digital Content Services with permission from Hindustan Times. For any query with respect to this article or any other content requirement, please contact Editor at contentservices@htlive.com</p></div><p class=\"line-break\"><br/></p><p class=\"tr-copyright\">Copyright (c) 2023 HT Digital streams Ltd</p></div>"
      ],
      "text/plain": [
       "<IPython.core.display.HTML object>"
      ]
     },
     "execution_count": 59,
     "metadata": {},
     "output_type": "execute_result"
    }
   ],
   "source": [
    "HTML(news_text)"
   ]
  },
  {
   "cell_type": "markdown",
   "metadata": {},
   "source": [
    "## Storing Financial Data Efficiently"
   ]
  },
  {
   "cell_type": "markdown",
   "metadata": {},
   "source": [
    "### Storing DataFrame Objects"
   ]
  },
  {
   "cell_type": "code",
   "execution_count": 60,
   "metadata": {},
   "outputs": [],
   "source": [
    "from sample_data import generate_sample_data"
   ]
  },
  {
   "cell_type": "code",
   "execution_count": 61,
   "metadata": {},
   "outputs": [
    {
     "name": "stdout",
     "output_type": "stream",
     "text": [
      "                            No0         No1         No2         No3\n",
      "2021-01-01 00:00:00  100.000000  100.000000  100.000000  100.000000\n",
      "2021-01-01 00:01:00   99.890180   99.950828   99.945055   99.912433\n",
      "2021-01-01 00:02:00   99.818425   99.839342   99.820990   99.937123\n",
      "2021-01-01 00:03:00   99.822354   99.916865   99.907550   99.966877\n",
      "2021-01-01 00:04:00   99.773678   99.911778   99.881970  100.064077\n"
     ]
    }
   ],
   "source": [
    "print(generate_sample_data(rows=5, cols=4))"
   ]
  },
  {
   "cell_type": "code",
   "execution_count": 62,
   "metadata": {},
   "outputs": [
    {
     "name": "stdout",
     "output_type": "stream",
     "text": [
      "CPU times: user 1.14 s, sys: 202 ms, total: 1.34 s\n",
      "Wall time: 1.34 s\n"
     ]
    }
   ],
   "source": [
    "%time data = generate_sample_data(rows=5e6, cols=10).round(4)"
   ]
  },
  {
   "cell_type": "code",
   "execution_count": 63,
   "metadata": {},
   "outputs": [
    {
     "name": "stdout",
     "output_type": "stream",
     "text": [
      "<class 'pandas.core.frame.DataFrame'>\n",
      "DatetimeIndex: 5000000 entries, 2021-01-01 00:00:00 to 2030-07-05 05:19:00\n",
      "Freq: T\n",
      "Data columns (total 10 columns):\n",
      " #   Column  Dtype  \n",
      "---  ------  -----  \n",
      " 0   No0     float64\n",
      " 1   No1     float64\n",
      " 2   No2     float64\n",
      " 3   No3     float64\n",
      " 4   No4     float64\n",
      " 5   No5     float64\n",
      " 6   No6     float64\n",
      " 7   No7     float64\n",
      " 8   No8     float64\n",
      " 9   No9     float64\n",
      "dtypes: float64(10)\n",
      "memory usage: 419.6 MB\n"
     ]
    }
   ],
   "source": [
    "data.info()"
   ]
  },
  {
   "cell_type": "code",
   "execution_count": 64,
   "metadata": {},
   "outputs": [],
   "source": [
    "h5 = pd.HDFStore('data/data.h5', 'w')"
   ]
  },
  {
   "cell_type": "code",
   "execution_count": 65,
   "metadata": {},
   "outputs": [
    {
     "name": "stdout",
     "output_type": "stream",
     "text": [
      "CPU times: user 3.79 ms, sys: 60.4 ms, total: 64.1 ms\n",
      "Wall time: 85.7 ms\n"
     ]
    }
   ],
   "source": [
    "%time h5['data'] = data"
   ]
  },
  {
   "cell_type": "code",
   "execution_count": 66,
   "metadata": {},
   "outputs": [
    {
     "data": {
      "text/plain": [
       "<class 'pandas.io.pytables.HDFStore'>\n",
       "File path: data/data.h5"
      ]
     },
     "execution_count": 66,
     "metadata": {},
     "output_type": "execute_result"
    }
   ],
   "source": [
    "h5"
   ]
  },
  {
   "cell_type": "code",
   "execution_count": 67,
   "metadata": {},
   "outputs": [
    {
     "name": "stdout",
     "output_type": "stream",
     "text": [
      "-rw-r--r--  1 501  20  440007240 Oct  7 07:59 data/data.h5\n"
     ]
    }
   ],
   "source": [
    "ls -n data/data.*"
   ]
  },
  {
   "cell_type": "code",
   "execution_count": 68,
   "metadata": {},
   "outputs": [],
   "source": [
    "h5.close()"
   ]
  },
  {
   "cell_type": "code",
   "execution_count": 69,
   "metadata": {},
   "outputs": [],
   "source": [
    "h5 = pd.HDFStore('data/data.h5', 'r')"
   ]
  },
  {
   "cell_type": "code",
   "execution_count": 70,
   "metadata": {},
   "outputs": [
    {
     "name": "stdout",
     "output_type": "stream",
     "text": [
      "CPU times: user 83 ms, sys: 106 ms, total: 189 ms\n",
      "Wall time: 189 ms\n"
     ]
    }
   ],
   "source": [
    "%time data_copy = h5['data']"
   ]
  },
  {
   "cell_type": "code",
   "execution_count": 71,
   "metadata": {},
   "outputs": [
    {
     "name": "stdout",
     "output_type": "stream",
     "text": [
      "<class 'pandas.core.frame.DataFrame'>\n",
      "DatetimeIndex: 5000000 entries, 2021-01-01 00:00:00 to 2030-07-05 05:19:00\n",
      "Freq: T\n",
      "Data columns (total 10 columns):\n",
      " #   Column  Dtype  \n",
      "---  ------  -----  \n",
      " 0   No0     float64\n",
      " 1   No1     float64\n",
      " 2   No2     float64\n",
      " 3   No3     float64\n",
      " 4   No4     float64\n",
      " 5   No5     float64\n",
      " 6   No6     float64\n",
      " 7   No7     float64\n",
      " 8   No8     float64\n",
      " 9   No9     float64\n",
      "dtypes: float64(10)\n",
      "memory usage: 419.6 MB\n"
     ]
    }
   ],
   "source": [
    "data_copy.info()"
   ]
  },
  {
   "cell_type": "code",
   "execution_count": 72,
   "metadata": {},
   "outputs": [],
   "source": [
    "h5.close()"
   ]
  },
  {
   "cell_type": "code",
   "execution_count": 73,
   "metadata": {},
   "outputs": [],
   "source": [
    "rm data/data.h5"
   ]
  },
  {
   "cell_type": "code",
   "execution_count": 74,
   "metadata": {},
   "outputs": [
    {
     "name": "stdout",
     "output_type": "stream",
     "text": [
      "CPU times: user 1.53 s, sys: 469 ms, total: 2 s\n",
      "Wall time: 2.02 s\n"
     ]
    }
   ],
   "source": [
    "%time data.to_hdf('data/data.h5', 'data', format='table')"
   ]
  },
  {
   "cell_type": "code",
   "execution_count": 75,
   "metadata": {},
   "outputs": [
    {
     "name": "stdout",
     "output_type": "stream",
     "text": [
      "-rw-r--r--  1 501  20  446953369 Oct  7 07:59 data/data.h5\n"
     ]
    }
   ],
   "source": [
    "ls -n data/data.*"
   ]
  },
  {
   "cell_type": "code",
   "execution_count": 76,
   "metadata": {},
   "outputs": [
    {
     "name": "stdout",
     "output_type": "stream",
     "text": [
      "CPU times: user 62.5 ms, sys: 110 ms, total: 172 ms\n",
      "Wall time: 172 ms\n"
     ]
    }
   ],
   "source": [
    "%time data_copy = pd.read_hdf('data/data.h5', 'data')"
   ]
  },
  {
   "cell_type": "code",
   "execution_count": 77,
   "metadata": {},
   "outputs": [
    {
     "name": "stdout",
     "output_type": "stream",
     "text": [
      "<class 'pandas.core.frame.DataFrame'>\n",
      "DatetimeIndex: 5000000 entries, 2021-01-01 00:00:00 to 2030-07-05 05:19:00\n",
      "Freq: T\n",
      "Data columns (total 10 columns):\n",
      " #   Column  Dtype  \n",
      "---  ------  -----  \n",
      " 0   No0     float64\n",
      " 1   No1     float64\n",
      " 2   No2     float64\n",
      " 3   No3     float64\n",
      " 4   No4     float64\n",
      " 5   No5     float64\n",
      " 6   No6     float64\n",
      " 7   No7     float64\n",
      " 8   No8     float64\n",
      " 9   No9     float64\n",
      "dtypes: float64(10)\n",
      "memory usage: 419.6 MB\n"
     ]
    }
   ],
   "source": [
    "data_copy.info()"
   ]
  },
  {
   "cell_type": "code",
   "execution_count": 78,
   "metadata": {},
   "outputs": [],
   "source": [
    "import tables as tb"
   ]
  },
  {
   "cell_type": "code",
   "execution_count": 79,
   "metadata": {},
   "outputs": [],
   "source": [
    "h5 = tb.open_file('data/data.h5', 'r')"
   ]
  },
  {
   "cell_type": "code",
   "execution_count": 80,
   "metadata": {},
   "outputs": [
    {
     "data": {
      "text/plain": [
       "File(filename=data/data.h5, title='', mode='r', root_uep='/', filters=Filters(complevel=0, shuffle=False, bitshuffle=False, fletcher32=False, least_significant_digit=None))\n",
       "/ (RootGroup) ''\n",
       "/data (Group) ''\n",
       "/data/table (Table(5000000,)) ''\n",
       "  description := {\n",
       "  \"index\": Int64Col(shape=(), dflt=0, pos=0),\n",
       "  \"values_block_0\": Float64Col(shape=(10,), dflt=0.0, pos=1)}\n",
       "  byteorder := 'little'\n",
       "  chunkshape := (2978,)\n",
       "  autoindex := True\n",
       "  colindexes := {\n",
       "    \"index\": Index(6, mediumshuffle, zlib(1)).is_csi=False}"
      ]
     },
     "execution_count": 80,
     "metadata": {},
     "output_type": "execute_result"
    }
   ],
   "source": [
    "h5"
   ]
  },
  {
   "cell_type": "code",
   "execution_count": 81,
   "metadata": {},
   "outputs": [
    {
     "data": {
      "text/plain": [
       "array([(1609459200000000000, [100.    , 100.    , 100.    , 100.    , 100.    , 100.    , 100.    , 100.    , 100.    , 100.    ]),\n",
       "       (1609459260000000000, [ 99.974 ,  99.9836,  99.888 , 100.0378, 100.0302, 100.0669,  99.9961, 100.0186,  99.9934, 100.0142]),\n",
       "       (1609459320000000000, [ 99.8893,  99.9509,  99.944 ,  99.8601,  99.9632, 100.1233,  99.8986, 100.097 ,  99.9703, 100.0151])],\n",
       "      dtype=[('index', '<i8'), ('values_block_0', '<f8', (10,))])"
      ]
     },
     "execution_count": 81,
     "metadata": {},
     "output_type": "execute_result"
    }
   ],
   "source": [
    "h5.root.data.table[:3]"
   ]
  },
  {
   "cell_type": "code",
   "execution_count": 82,
   "metadata": {},
   "outputs": [],
   "source": [
    "h5.close()"
   ]
  },
  {
   "cell_type": "code",
   "execution_count": 83,
   "metadata": {},
   "outputs": [],
   "source": [
    "rm data/data.*"
   ]
  },
  {
   "cell_type": "markdown",
   "metadata": {},
   "source": [
    "### Using TsTables"
   ]
  },
  {
   "cell_type": "code",
   "execution_count": 84,
   "metadata": {},
   "outputs": [
    {
     "name": "stdout",
     "output_type": "stream",
     "text": [
      "CPU times: user 309 ms, sys: 49.7 ms, total: 359 ms\n",
      "Wall time: 358 ms\n"
     ]
    }
   ],
   "source": [
    "%%time\n",
    "data = generate_sample_data(rows=2.5e6, cols=5,\n",
    "                            freq='1s').round(4)"
   ]
  },
  {
   "cell_type": "code",
   "execution_count": 85,
   "metadata": {},
   "outputs": [
    {
     "name": "stdout",
     "output_type": "stream",
     "text": [
      "<class 'pandas.core.frame.DataFrame'>\n",
      "DatetimeIndex: 2500000 entries, 2021-01-01 00:00:00 to 2021-01-29 22:26:39\n",
      "Freq: S\n",
      "Data columns (total 5 columns):\n",
      " #   Column  Dtype  \n",
      "---  ------  -----  \n",
      " 0   No0     float64\n",
      " 1   No1     float64\n",
      " 2   No2     float64\n",
      " 3   No3     float64\n",
      " 4   No4     float64\n",
      "dtypes: float64(5)\n",
      "memory usage: 114.4 MB\n"
     ]
    }
   ],
   "source": [
    "data.info()"
   ]
  },
  {
   "cell_type": "code",
   "execution_count": 86,
   "metadata": {},
   "outputs": [],
   "source": [
    "import tstables"
   ]
  },
  {
   "cell_type": "code",
   "execution_count": 87,
   "metadata": {},
   "outputs": [],
   "source": [
    "import tables as tb"
   ]
  },
  {
   "cell_type": "code",
   "execution_count": 88,
   "metadata": {},
   "outputs": [],
   "source": [
    "class desc(tb.IsDescription):\n",
    "    ''' Description of TsTables table structure.\n",
    "    '''\n",
    "    timestamp = tb.Int64Col(pos=0)\n",
    "    No0 = tb.Float64Col(pos=1)\n",
    "    No1 = tb.Float64Col(pos=2)\n",
    "    No2 = tb.Float64Col(pos=3)\n",
    "    No3 = tb.Float64Col(pos=4)\n",
    "    No4 = tb.Float64Col(pos=5)"
   ]
  },
  {
   "cell_type": "code",
   "execution_count": 89,
   "metadata": {},
   "outputs": [],
   "source": [
    "h5 = tb.open_file('data/data.h5ts', 'w')"
   ]
  },
  {
   "cell_type": "code",
   "execution_count": 90,
   "metadata": {},
   "outputs": [],
   "source": [
    "ts = h5.create_ts('/', 'data', desc)"
   ]
  },
  {
   "cell_type": "code",
   "execution_count": 91,
   "metadata": {},
   "outputs": [
    {
     "data": {
      "text/plain": [
       "File(filename=data/data.h5ts, title='', mode='w', root_uep='/', filters=Filters(complevel=0, shuffle=False, bitshuffle=False, fletcher32=False, least_significant_digit=None))\n",
       "/ (RootGroup) ''\n",
       "/data (Group/Timeseries) ''\n",
       "/data/y2023 (Group) ''\n",
       "/data/y2023/m10 (Group) ''\n",
       "/data/y2023/m10/d07 (Group) ''\n",
       "/data/y2023/m10/d07/ts_data (Table(0,)) ''\n",
       "  description := {\n",
       "  \"timestamp\": Int64Col(shape=(), dflt=0, pos=0),\n",
       "  \"No0\": Float64Col(shape=(), dflt=0.0, pos=1),\n",
       "  \"No1\": Float64Col(shape=(), dflt=0.0, pos=2),\n",
       "  \"No2\": Float64Col(shape=(), dflt=0.0, pos=3),\n",
       "  \"No3\": Float64Col(shape=(), dflt=0.0, pos=4),\n",
       "  \"No4\": Float64Col(shape=(), dflt=0.0, pos=5)}\n",
       "  byteorder := 'little'\n",
       "  chunkshape := (1365,)"
      ]
     },
     "execution_count": 91,
     "metadata": {},
     "output_type": "execute_result"
    }
   ],
   "source": [
    "h5"
   ]
  },
  {
   "cell_type": "code",
   "execution_count": 92,
   "metadata": {},
   "outputs": [
    {
     "name": "stdout",
     "output_type": "stream",
     "text": [
      "CPU times: user 134 ms, sys: 72.3 ms, total: 207 ms\n",
      "Wall time: 211 ms\n"
     ]
    }
   ],
   "source": [
    "%time ts.append(data)"
   ]
  },
  {
   "cell_type": "code",
   "execution_count": 93,
   "metadata": {},
   "outputs": [],
   "source": [
    "# h5"
   ]
  },
  {
   "cell_type": "code",
   "execution_count": 94,
   "metadata": {},
   "outputs": [],
   "source": [
    "import datetime"
   ]
  },
  {
   "cell_type": "code",
   "execution_count": 95,
   "metadata": {},
   "outputs": [],
   "source": [
    "start = datetime.datetime(2021, 1, 2)"
   ]
  },
  {
   "cell_type": "code",
   "execution_count": 96,
   "metadata": {},
   "outputs": [],
   "source": [
    "end = datetime.datetime(2021, 1, 3)"
   ]
  },
  {
   "cell_type": "code",
   "execution_count": 97,
   "metadata": {},
   "outputs": [
    {
     "name": "stdout",
     "output_type": "stream",
     "text": [
      "CPU times: user 9.33 ms, sys: 19.8 ms, total: 29.1 ms\n",
      "Wall time: 34.9 ms\n"
     ]
    }
   ],
   "source": [
    "%time subset = ts.read_range(start, end)"
   ]
  },
  {
   "cell_type": "code",
   "execution_count": 98,
   "metadata": {},
   "outputs": [],
   "source": [
    "start = datetime.datetime(2021, 1, 2, 12, 30, 0)"
   ]
  },
  {
   "cell_type": "code",
   "execution_count": 99,
   "metadata": {},
   "outputs": [],
   "source": [
    "end = datetime.datetime(2021, 1, 5, 17, 15, 30)"
   ]
  },
  {
   "cell_type": "code",
   "execution_count": 100,
   "metadata": {},
   "outputs": [
    {
     "name": "stdout",
     "output_type": "stream",
     "text": [
      "CPU times: user 16.9 ms, sys: 8.21 ms, total: 25.1 ms\n",
      "Wall time: 24.6 ms\n"
     ]
    }
   ],
   "source": [
    "%time subset = ts.read_range(start, end)"
   ]
  },
  {
   "cell_type": "code",
   "execution_count": 101,
   "metadata": {},
   "outputs": [
    {
     "name": "stdout",
     "output_type": "stream",
     "text": [
      "<class 'pandas.core.frame.DataFrame'>\n",
      "DatetimeIndex: 276331 entries, 2021-01-02 12:30:00 to 2021-01-05 17:15:30\n",
      "Data columns (total 5 columns):\n",
      " #   Column  Non-Null Count   Dtype  \n",
      "---  ------  --------------   -----  \n",
      " 0   No0     276331 non-null  float64\n",
      " 1   No1     276331 non-null  float64\n",
      " 2   No2     276331 non-null  float64\n",
      " 3   No3     276331 non-null  float64\n",
      " 4   No4     276331 non-null  float64\n",
      "dtypes: float64(5)\n",
      "memory usage: 12.6 MB\n"
     ]
    }
   ],
   "source": [
    "subset.info()"
   ]
  },
  {
   "cell_type": "code",
   "execution_count": 102,
   "metadata": {},
   "outputs": [],
   "source": [
    "h5.close()"
   ]
  },
  {
   "cell_type": "code",
   "execution_count": 103,
   "metadata": {},
   "outputs": [],
   "source": [
    "rm data/data.*"
   ]
  },
  {
   "cell_type": "markdown",
   "metadata": {},
   "source": [
    "### Storing Data with SQLite3"
   ]
  },
  {
   "cell_type": "code",
   "execution_count": 104,
   "metadata": {},
   "outputs": [
    {
     "name": "stdout",
     "output_type": "stream",
     "text": [
      "CPU times: user 131 ms, sys: 29.9 ms, total: 161 ms\n",
      "Wall time: 161 ms\n"
     ]
    }
   ],
   "source": [
    "%time data = generate_sample_data(1e6, 5, '1min').round(4)"
   ]
  },
  {
   "cell_type": "code",
   "execution_count": 105,
   "metadata": {},
   "outputs": [
    {
     "name": "stdout",
     "output_type": "stream",
     "text": [
      "<class 'pandas.core.frame.DataFrame'>\n",
      "DatetimeIndex: 1000000 entries, 2021-01-01 00:00:00 to 2022-11-26 10:39:00\n",
      "Freq: T\n",
      "Data columns (total 5 columns):\n",
      " #   Column  Non-Null Count    Dtype  \n",
      "---  ------  --------------    -----  \n",
      " 0   No0     1000000 non-null  float64\n",
      " 1   No1     1000000 non-null  float64\n",
      " 2   No2     1000000 non-null  float64\n",
      " 3   No3     1000000 non-null  float64\n",
      " 4   No4     1000000 non-null  float64\n",
      "dtypes: float64(5)\n",
      "memory usage: 45.8 MB\n"
     ]
    }
   ],
   "source": [
    "data.info()"
   ]
  },
  {
   "cell_type": "code",
   "execution_count": 106,
   "metadata": {},
   "outputs": [],
   "source": [
    "import sqlite3 as sq3"
   ]
  },
  {
   "cell_type": "code",
   "execution_count": 107,
   "metadata": {},
   "outputs": [],
   "source": [
    "con = sq3.connect('data/data.sql')"
   ]
  },
  {
   "cell_type": "code",
   "execution_count": 108,
   "metadata": {},
   "outputs": [
    {
     "name": "stdout",
     "output_type": "stream",
     "text": [
      "CPU times: user 1.77 s, sys: 166 ms, total: 1.93 s\n",
      "Wall time: 2 s\n"
     ]
    },
    {
     "data": {
      "text/plain": [
       "1000000"
      ]
     },
     "execution_count": 108,
     "metadata": {},
     "output_type": "execute_result"
    }
   ],
   "source": [
    "%time data.to_sql('data', con)"
   ]
  },
  {
   "cell_type": "code",
   "execution_count": 109,
   "metadata": {},
   "outputs": [
    {
     "name": "stdout",
     "output_type": "stream",
     "text": [
      "-rw-r--r--@ 1 501  20  105316352 Oct  7 07:59 data/data.sql\n"
     ]
    }
   ],
   "source": [
    "ls -n data/data.*"
   ]
  },
  {
   "cell_type": "code",
   "execution_count": 110,
   "metadata": {},
   "outputs": [],
   "source": [
    "query = 'SELECT * FROM data WHERE No1 > 103 and No2 < 105'"
   ]
  },
  {
   "cell_type": "code",
   "execution_count": 111,
   "metadata": {},
   "outputs": [
    {
     "name": "stdout",
     "output_type": "stream",
     "text": [
      "CPU times: user 41.2 ms, sys: 18.4 ms, total: 59.6 ms\n",
      "Wall time: 58.1 ms\n"
     ]
    }
   ],
   "source": [
    "%time res = con.execute(query).fetchall()"
   ]
  },
  {
   "cell_type": "code",
   "execution_count": 112,
   "metadata": {},
   "outputs": [
    {
     "data": {
      "text/plain": [
       "[]"
      ]
     },
     "execution_count": 112,
     "metadata": {},
     "output_type": "execute_result"
    }
   ],
   "source": [
    "res[:5]"
   ]
  },
  {
   "cell_type": "code",
   "execution_count": 113,
   "metadata": {},
   "outputs": [
    {
     "data": {
      "text/plain": [
       "0"
      ]
     },
     "execution_count": 113,
     "metadata": {},
     "output_type": "execute_result"
    }
   ],
   "source": [
    "len(res)"
   ]
  },
  {
   "cell_type": "code",
   "execution_count": 114,
   "metadata": {},
   "outputs": [],
   "source": [
    "con.close()"
   ]
  },
  {
   "cell_type": "code",
   "execution_count": 115,
   "metadata": {},
   "outputs": [],
   "source": [
    "rm data/data.*"
   ]
  },
  {
   "cell_type": "markdown",
   "metadata": {},
   "source": [
    "<img src=\"http://hilpisch.com/tpq_logo.png\" alt=\"The Python Quants\" width=\"35%\" align=\"right\" border=\"0\"><br>\n",
    "\n",
    "<a href=\"http://tpq.io\" target=\"_blank\">http://tpq.io</a> | <a href=\"http://twitter.com/dyjh\" target=\"_blank\">@dyjh</a> | <a href=\"mailto:training@tpq.io\">training@tpq.io</a>"
   ]
  }
 ],
 "metadata": {
  "anaconda-cloud": {},
  "kernelspec": {
   "display_name": "Python 3 (ipykernel)",
   "language": "python",
   "name": "python3"
  },
  "language_info": {
   "codemirror_mode": {
    "name": "ipython",
    "version": 3
   },
   "file_extension": ".py",
   "mimetype": "text/x-python",
   "name": "python",
   "nbconvert_exporter": "python",
   "pygments_lexer": "ipython3",
   "version": "3.10.12"
  }
 },
 "nbformat": 4,
 "nbformat_minor": 4
}
